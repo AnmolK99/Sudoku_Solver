{
 "cells": [
  {
   "cell_type": "code",
   "execution_count": 1,
   "metadata": {},
   "outputs": [],
   "source": [
    "import cv2\n",
    "import numpy as np\n",
    "import matplotlib.pyplot as plt\n",
    "import matplotlib.image as mpimg\n",
    "from matplotlib.pyplot import figure\n",
    "from PIL import Image\n",
    "from skimage import morphology\n",
    "import time\n",
    "#133628711111"
   ]
  },
  {
   "cell_type": "code",
   "execution_count": 2,
   "metadata": {},
   "outputs": [],
   "source": [
    "sharpen_kernel = np.array([[-1,-1,-1], [-1,9,-1], [-1,-1,-1]])\n",
    "def sharpenit(img):\n",
    "    return cv2.filter2D(image, -1, sharpen_kernel)\n",
    "def dilateit(img,n):\n",
    "    return cv2.dilate(img,np.ones((n,n), np.uint8),iterations=1)\n",
    "def erodeit(img,n):\n",
    "    return cv2.erode(img,np.ones((n,n), np.uint8),iterations=1)\n",
    "def blurit(img,n):\n",
    "    return cv2.blur(img,(n,n))\n",
    "def notit(img):\n",
    "    return cv2.bitwise_not(img)\n",
    "def greyit(img):\n",
    "    return cv2.cvtColor(img, cv2.COLOR_BGR2GRAY)\n",
    "def thresholdit(img,n):\n",
    "    ret,thresh1 = cv2.threshold(img,n,255,cv2.THRESH_BINARY)\n",
    "    return thresh1\n",
    "def cannyit(img):\n",
    "    return cv2.Canny(img,60,200)\n",
    "def saveit(img,instruction):\n",
    "    strr=time.strftime(\"%H-%M-%S_%d-%m-%Y\")\n",
    "    path='sudoku images/'+instruction+'_'+strr+'.jpg'\n",
    "    cv2.imwrite(path,img)\n",
    "def printpixel(color,img):\n",
    "    y,x=img.shape[0],img.shape[1]\n",
    "    pixel=np.zeros((y,x))\n",
    "    for i in range(y):\n",
    "        for j in range(x):\n",
    "            pixel[i][j]=color\n",
    "    chartit(pixel,1)\n",
    "def make(img):\n",
    "    img=cv2.adaptiveThreshold(img,255,cv2.ADAPTIVE_THRESH_GAUSSIAN_C,cv2.THRESH_BINARY,5,2)\n",
    "    #img=cv2.bitwise_not(img)\n",
    "    #imgg=cv2.medianBlur(img,3)\n",
    "    return img\n",
    "def showit(img):\n",
    "    cv2.imshow('Hello',img)\n",
    "    cv2.waitKey(0)\n",
    "    cv2.destroyAllWindows()\n",
    "def chartit(img,n):\n",
    "    #fname = 'image.png'\n",
    "    #img=img.convert(\"L\")\n",
    "    figure(num=None, figsize=(n,n), dpi=80, edgecolor='k')\n",
    "    arr = np.asarray(img)\n",
    "    plt.imshow(arr, cmap='gray', vmin=0, vmax=255)\n",
    "    plt.show()\n",
    "    return\n",
    "    #plt.show()\n",
    "    #plt.imshow(img)\n",
    "def printbychar(img):\n",
    "    y,x=img.shape\n",
    "    for i in range (0,y):\n",
    "        for j in range (0,x):\n",
    "            if(img[i][j]==0):\n",
    "                print(\"●\",end=\"\")\n",
    "            else:\n",
    "                print(\"○\",end=\"\")\n",
    "        print()\n",
    "    return\n",
    "def printbyval(img):\n",
    "    y,x=img.shape\n",
    "    for i in range (0,y):\n",
    "        for j in range (0,x):\n",
    "            print(img[i][j],end=' ')\n",
    "        print()\n",
    "    return"
   ]
  },
  {
   "cell_type": "markdown",
   "metadata": {},
   "source": [
    "#  HOUGHLINES Function detect WHITE lines on Black Background"
   ]
  },
  {
   "cell_type": "code",
   "execution_count": 3,
   "metadata": {
    "scrolled": true
   },
   "outputs": [],
   "source": [
    "def make(img):\n",
    "    img=cv2.adaptiveThreshold(img,255,cv2.ADAPTIVE_THRESH_GAUSSIAN_C,cv2.THRESH_BINARY,13,2)\n",
    "    #img=cv2.bitwise_not(img)\n",
    "    #imgg=cv2.medianBlur(img,3)\n",
    "    return img\n",
    "def setimg(img):\n",
    "    #img=greyit(img)\n",
    "    y,x=img.shape\n",
    "    if x==0 or y==0:\n",
    "        raise Exception(\"Image Dimension = 0\") \n",
    "        #print(\"Image dimension == 0\")\n",
    "        #return\n",
    "    if(x!=28 or y!=28):\n",
    "        img=cv2.resize(img,(28,28),interpolation = cv2.INTER_AREA)\n",
    "    return img\n",
    "def predit(img):\n",
    "    ## chartit(img,1)\n",
    "    y,x=img.shape\n",
    "    ## print(img.shape)\n",
    "    if(y!=28 or x!=28):\n",
    "        img=setimg(img)\n",
    "        ## print(\"changing shapes \",img.shape)\n",
    "    \n",
    "    count=0\n",
    "    for i in range(0,28):\n",
    "        for j in range(0,28):\n",
    "            if(img[i][j]>=200):\n",
    "                count=count+1\n",
    "    if(count<=15):\n",
    "        print(\"declaring 0 as pixels =\",count)\n",
    "        return 0\n",
    "    img = tf.cast(img, tf.float32)\n",
    "    set1=img\n",
    "    set1=np.expand_dims(img,axis=2) \n",
    "    set1=np.expand_dims(set1,axis=0)\n",
    "    ## print(set1.shape)\n",
    "    i=model.predict(set1)\n",
    "    return (np.argmax(i))\n",
    "def remnoise(img,n):\n",
    "    # Works on Black Background with White fonts\n",
    "    #img=greyit(img)\n",
    "    binarized = np.where(img>0.1, 1, 0)\n",
    "    processed = morphology.remove_small_objects(binarized.astype(bool),min_size=n, connectivity=2).astype(int)\n",
    "    mask_x, mask_y = np.where(processed == 0)\n",
    "    img[mask_x, mask_y] = 256\n",
    "    return img\n",
    "def printarr(arr):\n",
    "    #r=arr.shape[0]\n",
    "    for i in range(0,81):\n",
    "        print(i)\n",
    "        chartit(arr[i],1)"
   ]
  },
  {
   "cell_type": "markdown",
   "metadata": {
    "scrolled": false
   },
   "source": [
    "# detect all small lines location inside sudoku\n",
    "# Limit image from up down left right etc"
   ]
  },
  {
   "cell_type": "code",
   "execution_count": 4,
   "metadata": {},
   "outputs": [],
   "source": [
    "def trimimage(image):\n",
    "    #chartit(image)\n",
    "    img2=erodeit(image,4)\n",
    "    #img2=thresholdit(img2)\n",
    "    img=cannyit(img2)\n",
    "    lines = cv2.HoughLinesP(img,rho = 1,theta = 1*np.pi/180,threshold = 100,minLineLength = 100,maxLineGap = 1000)\n",
    "    #print(\"number of lines = \" , lines.shape)\n",
    "    #print(lines)\n",
    "    N = lines.shape[0]\n",
    "    img1=img.copy()\n",
    "    img3=img.copy()\n",
    "    img1[:,:]=0\n",
    "    for i in range(N):\n",
    "        x1 = lines[i][0][0]\n",
    "        y1 = lines[i][0][1]\n",
    "        x2 = lines[i][0][2]\n",
    "        y2 = lines[i][0][3]\n",
    "        img1=cv2.line(img1,(x1,y1),(x2,y2),(256,256,256),1)\n",
    "        img3=cv2.line(img3,(x1,y1),(x2,y2),(256,256,256),1)\n",
    "    chartit(img1,5)\n",
    "    chartit(img3,5)\n",
    "    lsthori=np.zeros((lines.shape[0],2))\n",
    "    lstvert=np.zeros((lines.shape[0],2))\n",
    "    lsth=0\n",
    "    lstv=0\n",
    "    for i in range (lines.shape[0]):\n",
    "        x1 = lines[i][0][0]\n",
    "        y1 = lines[i][0][1]\n",
    "        x2 = lines[i][0][2]\n",
    "        y2 = lines[i][0][3]\n",
    "        '''\n",
    "        xdiff=x2-x1\n",
    "        ydiff=y2-y1\n",
    "        if xdiff<0:\n",
    "            xdiff=xdiff*(-1)\n",
    "        if ydiff<0:\n",
    "            ydiff=ydiff*(-1)\n",
    "        '''\n",
    "        if (x2-x1)==0:\n",
    "            slope=1000\n",
    "        else:\n",
    "            slope=(y2-y1)/(x2-x1)\n",
    "            \n",
    "        if slope<0.25 and slope>-0.25:\n",
    "            lsthori[lsth][0]=(y2+y1)/2\n",
    "            lsthori[lsth][1]=slope\n",
    "            lsth=lsth+1\n",
    "            continue\n",
    "        if slope<=-10 or slope>=10:\n",
    "            lstvert[lstv][0]=(x2+x1)/2\n",
    "            lstvert[lstv][1]=slope\n",
    "            lstv=lstv+1\n",
    "            continue\n",
    "    #chartit(img12,10)\n",
    "    # print(\"Horizontal Points\\n\",lsthori)\n",
    "    # print(\"Vertical Points\\n\",lstvert)\n",
    "    bottom=lsthori[0][0]\n",
    "    top=lsthori[0][0]\n",
    "    right=lstvert[0][0]\n",
    "    left=lstvert[0][0]\n",
    "    \n",
    "    for i in range(lsth):\n",
    "        if bottom<lsthori[i][0]:\n",
    "            bottom=lsthori[i][0]\n",
    "        if top>lsthori[i][0]:\n",
    "            top=lsthori[i][0]\n",
    "    for i in range(lstv):\n",
    "        if right<lstvert[i][0]:\n",
    "            right=lstvert[i][0]\n",
    "        if left>lstvert[i][0]:\n",
    "            left=lstvert[i][0]\n",
    "    \n",
    "    #print(top,\" \",bottom)\n",
    "    #print(left,\" \",right)\n",
    "    top=int(top)\n",
    "    bottom=int(bottom)\n",
    "    left=int(left)\n",
    "    right=int(right)\n",
    "    trimimggg=image[top:bottom,left:right]\n",
    "    chartit(trimimggg,5)\n",
    "    arr,loc=getnum(image,trimimggg,bottom,left,top,right)\n",
    "    return arr,loc\n",
    "\n",
    "#    for i in range(lsth):\n",
    "#    print(lsthori[i][0],\" \",lsthori[i][1])\n",
    "#    for i in range(lstv):\n",
    "#    print(lstvert[i][0],\" \",lstvert[i][1])"
   ]
  },
  {
   "cell_type": "code",
   "execution_count": 5,
   "metadata": {
    "scrolled": false
   },
   "outputs": [
    {
     "data": {
      "text/plain": [
       "'\\nimg=img2\\ntop,bottom,left,right,trimg=trimimage(img)\\n#chartit(img)\\nprint(\"left \",left)\\nprint(\"right \",right)\\nprint(\"top \",top)\\nprint(\"bottom \",bottom)\\ngetnum(img,trimg,bottom,left,top,right)\\n'"
      ]
     },
     "execution_count": 5,
     "metadata": {},
     "output_type": "execute_result"
    }
   ],
   "source": [
    "def getnum(img,trimg,b,l,t,r):\n",
    "    # img=cv2.cvtColor(img,cv2.COLOR_BGR2GRAY)\n",
    "    # print(\"in getnum\")\n",
    "    # chartit(trimg,5)\n",
    "    imgy=img.shape[0]\n",
    "    imgx=img.shape[1]\n",
    "    trimgy=trimg.shape[0]\n",
    "    trimgx=trimg.shape[1]\n",
    "    xx=trimgx/18\n",
    "    yy=trimgy/18\n",
    "    xc=trimgx/90\n",
    "    yc=trimgy/90\n",
    "    ii=0\n",
    "    arry=[]\n",
    "    loc=[]\n",
    "    #images=np.array((81,))\n",
    "    for j in range(9):\n",
    "        for i in range(9):\n",
    "            left=l+2*i*xx\n",
    "            if left-xx>=0:\n",
    "                left=left-xc\n",
    "            else:\n",
    "                left=0\n",
    "            \n",
    "            right=l+2*(i+1)*xx\n",
    "            if right+xx<=imgx:\n",
    "                right=right+xc\n",
    "            else:\n",
    "                right=imgx\n",
    "            \n",
    "            top=t+2*j*yy\n",
    "            if top-yy>=0:\n",
    "                top=top-yc\n",
    "            else:\n",
    "                top=0\n",
    "            \n",
    "            bottom=t+2*(j+1)*yy\n",
    "            if bottom+yy<=imgy:\n",
    "                bottom=bottom+yc\n",
    "            else:\n",
    "                bottom=imgy\n",
    "            print(\"Image \",i+1,\" \",j+1)\n",
    "            top=int(top)\n",
    "            bottom=int(bottom)\n",
    "            right=int(right)\n",
    "            left=int(left)\n",
    "            im=img[top:bottom,left:right]\n",
    "            #im=cv2.cvtColor(im,cv2.COLOR_BGR2GRAY)\n",
    "            arry.append(im)\n",
    "            loc.append([top,bottom,left,right])\n",
    "            chartit(im,1)\n",
    "            '''\n",
    "            ret,thrh = cv2.threshold(im,160,255,cv2.THRESH_BINARY)\n",
    "            chartit(im,2)\n",
    "            name='Images/Numbers/num'+str(ii)+\".jpg\"\n",
    "            cv2.imwrite(name,im)\n",
    "            ii=ii+1\n",
    "            '''\n",
    "            #val=pt.image_to_string(thrh)\n",
    "            #print(\"\\\"\",val,\"\\\"\")\n",
    "            print(im.shape)\n",
    "    return arry,loc\n",
    "'''\n",
    "img=img2\n",
    "top,bottom,left,right,trimg=trimimage(img)\n",
    "#chartit(img)\n",
    "print(\"left \",left)\n",
    "print(\"right \",right)\n",
    "print(\"top \",top)\n",
    "print(\"bottom \",bottom)\n",
    "getnum(img,trimg,bottom,left,top,right)\n",
    "'''"
   ]
  },
  {
   "cell_type": "code",
   "execution_count": 4,
   "metadata": {
    "scrolled": true
   },
   "outputs": [
    {
     "ename": "NameError",
     "evalue": "name 'loc' is not defined",
     "output_type": "error",
     "traceback": [
      "\u001b[1;31m---------------------------------------------------------------------------\u001b[0m",
      "\u001b[1;31mNameError\u001b[0m                                 Traceback (most recent call last)",
      "\u001b[1;32m<ipython-input-4-867dc961ff54>\u001b[0m in \u001b[0;36m<module>\u001b[1;34m\u001b[0m\n\u001b[0;32m     68\u001b[0m     \u001b[0mar\u001b[0m\u001b[1;33m,\u001b[0m\u001b[0mloc\u001b[0m\u001b[1;33m=\u001b[0m\u001b[0mtrimimage\u001b[0m\u001b[1;33m(\u001b[0m\u001b[0mimg\u001b[0m\u001b[1;33m)\u001b[0m\u001b[1;33m\u001b[0m\u001b[1;33m\u001b[0m\u001b[0m\n\u001b[0;32m     69\u001b[0m     '''\n\u001b[1;32m---> 70\u001b[1;33m \u001b[0mmain\u001b[0m\u001b[1;33m(\u001b[0m\u001b[1;33m)\u001b[0m\u001b[1;33m\u001b[0m\u001b[1;33m\u001b[0m\u001b[0m\n\u001b[0m",
      "\u001b[1;32m<ipython-input-4-867dc961ff54>\u001b[0m in \u001b[0;36mmain\u001b[1;34m()\u001b[0m\n\u001b[0;32m     51\u001b[0m     '''\n\u001b[0;32m     52\u001b[0m \u001b[1;32mdef\u001b[0m \u001b[0mmain\u001b[0m\u001b[1;33m(\u001b[0m\u001b[1;33m)\u001b[0m\u001b[1;33m:\u001b[0m\u001b[1;33m\u001b[0m\u001b[1;33m\u001b[0m\u001b[0m\n\u001b[1;32m---> 53\u001b[1;33m     \u001b[0ma\u001b[0m\u001b[1;33m,\u001b[0m\u001b[0mb\u001b[0m\u001b[1;33m,\u001b[0m\u001b[0mc\u001b[0m\u001b[1;33m,\u001b[0m\u001b[0md\u001b[0m\u001b[1;33m=\u001b[0m\u001b[0mloc\u001b[0m\u001b[1;33m[\u001b[0m\u001b[1;36m0\u001b[0m\u001b[1;33m]\u001b[0m\u001b[1;33m\u001b[0m\u001b[1;33m\u001b[0m\u001b[0m\n\u001b[0m\u001b[0;32m     54\u001b[0m     \u001b[0mset_putimage\u001b[0m\u001b[1;33m(\u001b[0m\u001b[0mimg\u001b[0m\u001b[1;33m,\u001b[0m\u001b[1;36m6\u001b[0m\u001b[1;33m,\u001b[0m\u001b[0ma\u001b[0m\u001b[1;33m,\u001b[0m\u001b[0mb\u001b[0m\u001b[1;33m,\u001b[0m\u001b[0mc\u001b[0m\u001b[1;33m,\u001b[0m\u001b[0md\u001b[0m\u001b[1;33m)\u001b[0m\u001b[1;33m\u001b[0m\u001b[1;33m\u001b[0m\u001b[0m\n\u001b[0;32m     55\u001b[0m \u001b[1;33m\u001b[0m\u001b[0m\n",
      "\u001b[1;31mNameError\u001b[0m: name 'loc' is not defined"
     ]
    }
   ],
   "source": [
    "    def set_putimage(img,num,up,down,left,right):\n",
    "        ar=[]\n",
    "        for i in range(0,10):\n",
    "            address=\"Numbers/\"+str(i)+\".jpg\"\n",
    "            a=cv2.imread(address,0)\n",
    "            ar.append(a)\n",
    "        \n",
    "        #for i in range(0,10):\n",
    "        #    chartit(ar[i],1)\n",
    "        \n",
    "        colar=np.array((10,28,28,3))\n",
    "        colar2=ar.copy()\n",
    "        colar2=np.expand_dims(colar2,3)\n",
    "        print(colar2.shape)\n",
    "        '''\n",
    "        for k in range(0,9):\n",
    "            a=ar[k]\n",
    "            y=a.shape[0]\n",
    "            x=a.shape[1]\n",
    "            for i in range(0,y):\n",
    "                for j in range(0,x):\n",
    "                    if(a[j][i]>200):\n",
    "                        colar[k][j][i][0]=256\n",
    "                        colar[k][j][i][1]=0\n",
    "                        colar[k][j][i][2]=0\n",
    "                    else:\n",
    "                        colar[k][j][i][0]=0\n",
    "                        colar[k][j][i][1]=0\n",
    "                        colar[k][j][i][2]=0\n",
    "        \n",
    "        for i in range(0,9):\n",
    "            a=colar[i]\n",
    "            chartit(i,1)\n",
    "        '''\n",
    "        '''\n",
    "        a=ar[num-1]\n",
    "        x1=left\n",
    "        y1=up\n",
    "        x2=right\n",
    "        y2=down\n",
    "        dy=int((y2-y1)*0.90)\n",
    "        dx=int((x2-x1)*0.90)\n",
    "        padx=int(dx/10)\n",
    "        pady=int(dy/10)\n",
    "        img=cv2.resize(img,(dx,dy),interpolation = cv2.INTER_AREA)\n",
    "        chartit(img,1)\n",
    "        for i in range(x1,x1+dx):\n",
    "            for j in range(y1,y1+dy):\n",
    "                img[i][j]=a[i-x1][j-y1]\n",
    "        chartit(img,5)\n",
    "        '''\n",
    "    def main():\n",
    "        a,b,c,d=loc[0]\n",
    "        set_putimage(img,6,a,b,c,d)\n",
    "        \n",
    "        '''\n",
    "        img2=cv2.imread('sudoku images/original_image.jpg')\n",
    "        img3=cv2.imread('sudoku images/00_55_32--17_10_2020.jpg')\n",
    "        img=img3\n",
    "        # showit(img)\n",
    "        img=greyit(img)\n",
    "        img=make(img)\n",
    "        img=cv2.bitwise_not(img)\n",
    "        img=remnoise(img,45)\n",
    "        img=cv2.bitwise_not(img)\n",
    "        chartit(img,5)\n",
    "        \n",
    "        ar,loc=trimimage(img)\n",
    "        '''\n",
    "    main()"
   ]
  },
  {
   "cell_type": "code",
   "execution_count": 3,
   "metadata": {
    "scrolled": true
   },
   "outputs": [
    {
     "ename": "NameError",
     "evalue": "name 'remnoise' is not defined",
     "output_type": "error",
     "traceback": [
      "\u001b[1;31m---------------------------------------------------------------------------\u001b[0m",
      "\u001b[1;31mNameError\u001b[0m                                 Traceback (most recent call last)",
      "\u001b[1;32m<ipython-input-3-7b7ba7b68b4d>\u001b[0m in \u001b[0;36m<module>\u001b[1;34m\u001b[0m\n\u001b[0;32m     59\u001b[0m \u001b[0mimg\u001b[0m\u001b[1;33m=\u001b[0m\u001b[0mmake\u001b[0m\u001b[1;33m(\u001b[0m\u001b[0mimg\u001b[0m\u001b[1;33m)\u001b[0m\u001b[1;33m\u001b[0m\u001b[1;33m\u001b[0m\u001b[0m\n\u001b[0;32m     60\u001b[0m \u001b[0mimg\u001b[0m\u001b[1;33m=\u001b[0m\u001b[0mcv2\u001b[0m\u001b[1;33m.\u001b[0m\u001b[0mbitwise_not\u001b[0m\u001b[1;33m(\u001b[0m\u001b[0mimg\u001b[0m\u001b[1;33m)\u001b[0m\u001b[1;33m\u001b[0m\u001b[1;33m\u001b[0m\u001b[0m\n\u001b[1;32m---> 61\u001b[1;33m \u001b[0mimg\u001b[0m\u001b[1;33m=\u001b[0m\u001b[0mremnoise\u001b[0m\u001b[1;33m(\u001b[0m\u001b[0mimg\u001b[0m\u001b[1;33m,\u001b[0m\u001b[1;36m45\u001b[0m\u001b[1;33m)\u001b[0m\u001b[1;33m\u001b[0m\u001b[1;33m\u001b[0m\u001b[0m\n\u001b[0m\u001b[0;32m     62\u001b[0m \u001b[0mimg\u001b[0m\u001b[1;33m=\u001b[0m\u001b[0mcv2\u001b[0m\u001b[1;33m.\u001b[0m\u001b[0mbitwise_not\u001b[0m\u001b[1;33m(\u001b[0m\u001b[0mimg\u001b[0m\u001b[1;33m)\u001b[0m\u001b[1;33m\u001b[0m\u001b[1;33m\u001b[0m\u001b[0m\n\u001b[0;32m     63\u001b[0m \u001b[0mchartit\u001b[0m\u001b[1;33m(\u001b[0m\u001b[0mimg\u001b[0m\u001b[1;33m,\u001b[0m\u001b[1;36m5\u001b[0m\u001b[1;33m)\u001b[0m\u001b[1;33m\u001b[0m\u001b[1;33m\u001b[0m\u001b[0m\n",
      "\u001b[1;31mNameError\u001b[0m: name 'remnoise' is not defined"
     ]
    }
   ],
   "source": [
    "def imagefromcam():\n",
    "    img2=np.zeros((1,1,1))\n",
    "    cam=cv2.VideoCapture(0)\n",
    "    while True:\n",
    "        ret_val,img=cam.read()\n",
    "        lines = cv2.HoughLinesP(cannyit(img),rho = 1,theta = 1*np.pi/180,\n",
    "                                threshold = 100,minLineLength = 100,maxLineGap = 10)\n",
    "        cv2.imshow(\"Window\",img)\n",
    "        img1=img.copy()\n",
    "        try:\n",
    "            N = lines.shape[0]\n",
    "        except:\n",
    "            N=0\n",
    "        for i in range(N):\n",
    "            x1 = lines[i][0][0]\n",
    "            y1 = lines[i][0][1]\n",
    "            x2 = lines[i][0][2]\n",
    "            y2 = lines[i][0][3]\n",
    "            img1=cv2.line(img1,(x1,y1),(x2,y2),(256,256,256),1)\n",
    "        cv2.imshow(\"Window\",img1)\n",
    "        img2=img.copy()\n",
    "        if cv2.waitKey(1) & 0xFF == ord('x'):\n",
    "            cv2.destroyAllWindows()\n",
    "            break\n",
    "    del(cam)\n",
    "    return img2\n",
    "'''\n",
    "img2=np.zeros((1,1,1))\n",
    "cam=cv2.VideoCapture(0)\n",
    "while True:\n",
    "    ret_val,img=cam.read()\n",
    "    lines = cv2.HoughLinesP(cannyit(img),rho = 1,theta = 1*np.pi/180,\n",
    "                            threshold = 100,minLineLength = 100,maxLineGap = 10)\n",
    "    cv2.imshow(\"Window\",img)\n",
    "    img1=img.copy()\n",
    "    try:\n",
    "        N = lines.shape[0]\n",
    "    except:\n",
    "        N=0\n",
    "    for i in range(N):\n",
    "        x1 = lines[i][0][0]\n",
    "        y1 = lines[i][0][1]\n",
    "        x2 = lines[i][0][2]\n",
    "        y2 = lines[i][0][3]\n",
    "        img1=cv2.line(img1,(x1,y1),(x2,y2),(256,256,256),1)\n",
    "    cv2.imshow(\"Window\",img1)\n",
    "    img2=img.copy()\n",
    "    if cv2.waitKey(1) & 0xFF == ord('x'):\n",
    "        cv2.destroyAllWindows()\n",
    "        break\n",
    "del(cam)\n",
    "'''\n",
    "#imgg=imagefromcam()\n",
    "img2=cv2.imread('sudoku images/original_image.jpg')\n",
    "img3=cv2.imread('sudoku images/00_55_32--17_10_2020.jpg')\n",
    "img=img3\n",
    "# showit(img)\n",
    "img=greyit(img)\n",
    "img=make(img)\n",
    "img=cv2.bitwise_not(img)\n",
    "img=remnoise(img,45)\n",
    "img=cv2.bitwise_not(img)\n",
    "chartit(img,5)\n",
    "\n",
    "#top,bottom,left,right,trimg=trimimage(img)\n",
    "#arry=getnum(img,trimg,bottom,left,top,right)\n",
    "ar,loc=trimimage(img)"
   ]
  },
  {
   "cell_type": "code",
   "execution_count": 43,
   "metadata": {
    "scrolled": true
   },
   "outputs": [
    {
     "name": "stdout",
     "output_type": "stream",
     "text": [
      "36   91   43   98\n",
      "[36, 91, 43, 98]\n"
     ]
    },
    {
     "data": {
      "text/plain": [
       "'\\nfor i in range(0,81):\\n    print(i)\\n    chartit(ar[i],1)\\n'"
      ]
     },
     "execution_count": 43,
     "metadata": {},
     "output_type": "execute_result"
    }
   ],
   "source": [
    "#chartit(img,5)\n",
    "#cv2.imwrite('sudoku images/sudoku.jpg',img)\n",
    "'''\n",
    "for i in range(0,81):\n",
    "    print(i)\n",
    "    chartit(ar[i],1)\n",
    "'''"
   ]
  },
  {
   "cell_type": "markdown",
   "metadata": {},
   "source": [
    "# Y - Coordinate first , X - Coordinate Second"
   ]
  },
  {
   "cell_type": "code",
   "execution_count": 26,
   "metadata": {},
   "outputs": [],
   "source": [
    "import tensorflow as tf\n",
    "from tensorflow import keras\n",
    "from keras import models\n",
    "#model.save('simple_sequential_model')\n",
    "model1 = keras.models.load_model('models/simple_sequential_model')\n",
    "#model2=keras.models.load_model('models/ResNet164.h5')\n",
    "#model3=keras.models.load_model('models/SuperLearner.h5')\n",
    "#model4=keras.models.load_model('models/my_model.h5')\n",
    "model_new=keras.models.load_model('new_model.h5')\n",
    "model=model_new"
   ]
  },
  {
   "cell_type": "code",
   "execution_count": 8,
   "metadata": {
    "scrolled": false
   },
   "outputs": [],
   "source": [
    "def trimimg1(img): # Identifies black lines on white background\n",
    "    ## print('hello',img.shape)\n",
    "    imgg=img.copy()\n",
    "    y=img.shape[0]\n",
    "    x=img.shape[1]\n",
    "    img=erodeit(img,2)\n",
    "    vacx=int(x/4)\n",
    "    vacy=int(y/4)\n",
    "    #vacx=int((3*x)/8)\n",
    "    #vacy=int((3*y)/8)\n",
    "    top=0\n",
    "    bottom=y-1\n",
    "    left=0\n",
    "    right=x-1\n",
    "    \n",
    "    mid=int(y/2)\n",
    "    midsta=0\n",
    "    if y%2==0:\n",
    "        midsta=int(y/2)\n",
    "    else:\n",
    "        midsta=int((y/2)+1)\n",
    "    for i in range(0,mid):\n",
    "        vacant1=0\n",
    "        vacant2=0\n",
    "        interrupt=0\n",
    "        if top==0:\n",
    "            for j in range(0,x):\n",
    "                if(img[mid-i-1][j]!=0):\n",
    "                    if(vacant1<=vacx):\n",
    "                        vacant1=vacant1+1\n",
    "                        continue\n",
    "                    interrupt=1\n",
    "                    break\n",
    "            if interrupt==0:\n",
    "                top=mid-i\n",
    "        interrupt=0\n",
    "        if bottom==y-1:\n",
    "            for j in range(0,x):\n",
    "                if(img[mid+i][j]!=0):\n",
    "                    if(vacant2<=vacx):\n",
    "                        vacant2=vacant2+1\n",
    "                        continue\n",
    "                    interrupt=1\n",
    "                    break\n",
    "            if interrupt==0:\n",
    "                bottom=mid+i\n",
    "    \n",
    "    mid=int(x/2)\n",
    "    midsta=0\n",
    "    if x%2==0:\n",
    "        midsta=int(x/2)\n",
    "    else:\n",
    "        midsta=int((x/2)+1)\n",
    "    \n",
    "    for i in range(0,mid-1):\n",
    "        vacant1=0\n",
    "        vacant2=0\n",
    "        interrupt=0\n",
    "        if left==0:\n",
    "            for j in range(0,y):\n",
    "                if(img[j][mid-i-1]!=0):\n",
    "                    if(vacant1<=vacy):\n",
    "                        vacant1=vacant1+1\n",
    "                        continue\n",
    "                    interrupt=1\n",
    "                    break\n",
    "            if interrupt==0:\n",
    "                left=mid-i\n",
    "        interrupt=0\n",
    "        if right==x-1:\n",
    "            for j in range(0,y):\n",
    "                if(img[j][mid+i]!=0):\n",
    "                    if(vacant2<=vacy):\n",
    "                        vacant2=vacant2+1\n",
    "                        continue\n",
    "                    interrupt=1\n",
    "                    break\n",
    "            if interrupt==0:\n",
    "                right=mid+i\n",
    "    top=top+1\n",
    "    left=left+1\n",
    "    right=right-1\n",
    "    img=img[top:bottom,left:right]\n",
    "    \n",
    "    #img=imgg[top:bottom,left:right]\n",
    "    \n",
    "    img=setimg(img)\n",
    "    img=cv2.bitwise_not(img)\n",
    "    img=remnoise(img,30)\n",
    "    img=cv2.bitwise_not(img)\n",
    "    return img"
   ]
  },
  {
   "cell_type": "markdown",
   "metadata": {},
   "source": [
    "# New Version"
   ]
  },
  {
   "cell_type": "code",
   "execution_count": 63,
   "metadata": {
    "scrolled": true
   },
   "outputs": [
    {
     "name": "stdout",
     "output_type": "stream",
     "text": [
      "in images\n",
      "0\n"
     ]
    },
    {
     "data": {
      "image/png": "[encoded data removed]",
      "text/plain": [
       "<Figure size 80x80 with 1 Axes>"
      ]
     },
     "metadata": {
      "needs_background": "light"
     },
     "output_type": "display_data"
    },
    {
     "name": "stdout",
     "output_type": "stream",
     "text": [
      "1\n"
     ]
    },
    {
     "data": {
      "image/png": "[encoded data removed]",
      "text/plain": [
       "<Figure size 80x80 with 1 Axes>"
      ]
     },
     "metadata": {
      "needs_background": "light"
     },
     "output_type": "display_data"
    },
    {
     "name": "stdout",
     "output_type": "stream",
     "text": [
      "2\n"
     ]
    },
    {
     "data": {
      "image/png": "[encoded data removed]",
      "text/plain": [
       "<Figure size 80x80 with 1 Axes>"
      ]
     },
     "metadata": {
      "needs_background": "light"
     },
     "output_type": "display_data"
    },
    {
     "name": "stdout",
     "output_type": "stream",
     "text": [
      "3\n"
     ]
    },
    {
     "data": {
      "image/png": "[encoded data removed]",
      "text/plain": [
       "<Figure size 80x80 with 1 Axes>"
      ]
     },
     "metadata": {
      "needs_background": "light"
     },
     "output_type": "display_data"
    },
    {
     "name": "stdout",
     "output_type": "stream",
     "text": [
      "4\n"
     ]
    },
    {
     "data": {
      "image/png": "[encoded data removed]",
      "text/plain": [
       "<Figure size 80x80 with 1 Axes>"
      ]
     },
     "metadata": {
      "needs_background": "light"
     },
     "output_type": "display_data"
    },
    {
     "name": "stdout",
     "output_type": "stream",
     "text": [
      "5\n"
     ]
    },
    {
     "data": {
      "image/png": "[encoded data removed]",
      "text/plain": [
       "<Figure size 80x80 with 1 Axes>"
      ]
     },
     "metadata": {
      "needs_background": "light"
     },
     "output_type": "display_data"
    },
    {
     "name": "stdout",
     "output_type": "stream",
     "text": [
      "6\n"
     ]
    },
    {
     "data": {
      "image/png": "[encoded data removed]",
      "text/plain": [
       "<Figure size 80x80 with 1 Axes>"
      ]
     },
     "metadata": {
      "needs_background": "light"
     },
     "output_type": "display_data"
    },
    {
     "name": "stdout",
     "output_type": "stream",
     "text": [
      "7\n"
     ]
    },
    {
     "data": {
      "image/png": "[encoded data removed]",
      "text/plain": [
       "<Figure size 80x80 with 1 Axes>"
      ]
     },
     "metadata": {
      "needs_background": "light"
     },
     "output_type": "display_data"
    },
    {
     "name": "stdout",
     "output_type": "stream",
     "text": [
      "8\n"
     ]
    },
    {
     "data": {
      "image/png": "[encoded data removed]",
      "text/plain": [
       "<Figure size 80x80 with 1 Axes>"
      ]
     },
     "metadata": {
      "needs_background": "light"
     },
     "output_type": "display_data"
    },
    {
     "name": "stdout",
     "output_type": "stream",
     "text": [
      "9\n"
     ]
    },
    {
     "data": {
      "image/png": "[encoded data removed]",
      "text/plain": [
       "<Figure size 80x80 with 1 Axes>"
      ]
     },
     "metadata": {
      "needs_background": "light"
     },
     "output_type": "display_data"
    },
    {
     "name": "stdout",
     "output_type": "stream",
     "text": [
      "10\n"
     ]
    },
    {
     "data": {
      "image/png": "[encoded data removed]",
      "text/plain": [
       "<Figure size 80x80 with 1 Axes>"
      ]
     },
     "metadata": {
      "needs_background": "light"
     },
     "output_type": "display_data"
    },
    {
     "name": "stdout",
     "output_type": "stream",
     "text": [
      "11\n"
     ]
    },
    {
     "data": {
      "image/png": "[encoded data removed]",
      "text/plain": [
       "<Figure size 80x80 with 1 Axes>"
      ]
     },
     "metadata": {
      "needs_background": "light"
     },
     "output_type": "display_data"
    },
    {
     "name": "stdout",
     "output_type": "stream",
     "text": [
      "12\n"
     ]
    },
    {
     "data": {
      "image/png": "[encoded data removed]",
      "text/plain": [
       "<Figure size 80x80 with 1 Axes>"
      ]
     },
     "metadata": {
      "needs_background": "light"
     },
     "output_type": "display_data"
    },
    {
     "name": "stdout",
     "output_type": "stream",
     "text": [
      "13\n"
     ]
    },
    {
     "data": {
      "image/png": "[encoded data removed]",
      "text/plain": [
       "<Figure size 80x80 with 1 Axes>"
      ]
     },
     "metadata": {
      "needs_background": "light"
     },
     "output_type": "display_data"
    },
    {
     "name": "stdout",
     "output_type": "stream",
     "text": [
      "14\n"
     ]
    },
    {
     "data": {
      "image/png": "[encoded data removed]",
      "text/plain": [
       "<Figure size 80x80 with 1 Axes>"
      ]
     },
     "metadata": {
      "needs_background": "light"
     },
     "output_type": "display_data"
    },
    {
     "name": "stdout",
     "output_type": "stream",
     "text": [
      "15\n"
     ]
    },
    {
     "data": {
      "image/png": "[encoded data removed]",
      "text/plain": [
       "<Figure size 80x80 with 1 Axes>"
      ]
     },
     "metadata": {
      "needs_background": "light"
     },
     "output_type": "display_data"
    },
    {
     "name": "stdout",
     "output_type": "stream",
     "text": [
      "16\n"
     ]
    },
    {
     "data": {
      "image/png": "[encoded data removed]",
      "text/plain": [
       "<Figure size 80x80 with 1 Axes>"
      ]
     },
     "metadata": {
      "needs_background": "light"
     },
     "output_type": "display_data"
    },
    {
     "name": "stdout",
     "output_type": "stream",
     "text": [
      "17\n"
     ]
    },
    {
     "data": {
      "image/png": "[encoded data removed]",
      "text/plain": [
       "<Figure size 80x80 with 1 Axes>"
      ]
     },
     "metadata": {
      "needs_background": "light"
     },
     "output_type": "display_data"
    },
    {
     "name": "stdout",
     "output_type": "stream",
     "text": [
      "18\n"
     ]
    },
    {
     "data": {
      "image/png": "[encoded data removed]",
      "text/plain": [
       "<Figure size 80x80 with 1 Axes>"
      ]
     },
     "metadata": {
      "needs_background": "light"
     },
     "output_type": "display_data"
    },
    {
     "name": "stdout",
     "output_type": "stream",
     "text": [
      "19\n"
     ]
    },
    {
     "data": {
      "image/png": "[encoded data removed]",
      "text/plain": [
       "<Figure size 80x80 with 1 Axes>"
      ]
     },
     "metadata": {
      "needs_background": "light"
     },
     "output_type": "display_data"
    },
    {
     "name": "stdout",
     "output_type": "stream",
     "text": [
      "20\n"
     ]
    },
    {
     "data": {
      "image/png": "[encoded data removed]",
      "text/plain": [
       "<Figure size 80x80 with 1 Axes>"
      ]
     },
     "metadata": {
      "needs_background": "light"
     },
     "output_type": "display_data"
    },
    {
     "name": "stdout",
     "output_type": "stream",
     "text": [
      "21\n"
     ]
    },
    {
     "data": {
      "image/png": "[encoded data removed]",
      "text/plain": [
       "<Figure size 80x80 with 1 Axes>"
      ]
     },
     "metadata": {
      "needs_background": "light"
     },
     "output_type": "display_data"
    },
    {
     "name": "stdout",
     "output_type": "stream",
     "text": [
      "22\n"
     ]
    },
    {
     "data": {
      "image/png": "[encoded data removed]",
      "text/plain": [
       "<Figure size 80x80 with 1 Axes>"
      ]
     },
     "metadata": {
      "needs_background": "light"
     },
     "output_type": "display_data"
    },
    {
     "name": "stdout",
     "output_type": "stream",
     "text": [
      "23\n"
     ]
    },
    {
     "data": {
      "image/png": "[encoded data removed]",
      "text/plain": [
       "<Figure size 80x80 with 1 Axes>"
      ]
     },
     "metadata": {
      "needs_background": "light"
     },
     "output_type": "display_data"
    },
    {
     "name": "stdout",
     "output_type": "stream",
     "text": [
      "24\n"
     ]
    },
    {
     "data": {
      "image/png": "[encoded data removed]",
      "text/plain": [
       "<Figure size 80x80 with 1 Axes>"
      ]
     },
     "metadata": {
      "needs_background": "light"
     },
     "output_type": "display_data"
    },
    {
     "name": "stdout",
     "output_type": "stream",
     "text": [
      "25\n"
     ]
    },
    {
     "data": {
      "image/png": "[encoded data removed]",
      "text/plain": [
       "<Figure size 80x80 with 1 Axes>"
      ]
     },
     "metadata": {
      "needs_background": "light"
     },
     "output_type": "display_data"
    },
    {
     "name": "stdout",
     "output_type": "stream",
     "text": [
      "26\n"
     ]
    },
    {
     "data": {
      "image/png": "[encoded data removed]",
      "text/plain": [
       "<Figure size 80x80 with 1 Axes>"
      ]
     },
     "metadata": {
      "needs_background": "light"
     },
     "output_type": "display_data"
    },
    {
     "name": "stdout",
     "output_type": "stream",
     "text": [
      "27\n"
     ]
    },
    {
     "data": {
      "image/png": "[encoded data removed]",
      "text/plain": [
       "<Figure size 80x80 with 1 Axes>"
      ]
     },
     "metadata": {
      "needs_background": "light"
     },
     "output_type": "display_data"
    },
    {
     "name": "stdout",
     "output_type": "stream",
     "text": [
      "28\n"
     ]
    },
    {
     "data": {
      "image/png": "[encoded data removed]",
      "text/plain": [
       "<Figure size 80x80 with 1 Axes>"
      ]
     },
     "metadata": {
      "needs_background": "light"
     },
     "output_type": "display_data"
    },
    {
     "name": "stdout",
     "output_type": "stream",
     "text": [
      "29\n"
     ]
    },
    {
     "data": {
      "image/png": "[encoded data removed]",
      "text/plain": [
       "<Figure size 80x80 with 1 Axes>"
      ]
     },
     "metadata": {
      "needs_background": "light"
     },
     "output_type": "display_data"
    },
    {
     "name": "stdout",
     "output_type": "stream",
     "text": [
      "30\n"
     ]
    },
    {
     "data": {
      "image/png": "[encoded data removed]",
      "text/plain": [
       "<Figure size 80x80 with 1 Axes>"
      ]
     },
     "metadata": {
      "needs_background": "light"
     },
     "output_type": "display_data"
    },
    {
     "name": "stdout",
     "output_type": "stream",
     "text": [
      "31\n"
     ]
    },
    {
     "data": {
      "image/png": "[encoded data removed]",
      "text/plain": [
       "<Figure size 80x80 with 1 Axes>"
      ]
     },
     "metadata": {
      "needs_background": "light"
     },
     "output_type": "display_data"
    },
    {
     "name": "stdout",
     "output_type": "stream",
     "text": [
      "32\n"
     ]
    },
    {
     "data": {
      "image/png": "[encoded data removed]",
      "text/plain": [
       "<Figure size 80x80 with 1 Axes>"
      ]
     },
     "metadata": {
      "needs_background": "light"
     },
     "output_type": "display_data"
    },
    {
     "name": "stdout",
     "output_type": "stream",
     "text": [
      "33\n"
     ]
    },
    {
     "data": {
      "image/png": "[encoded data removed]",
      "text/plain": [
       "<Figure size 80x80 with 1 Axes>"
      ]
     },
     "metadata": {
      "needs_background": "light"
     },
     "output_type": "display_data"
    },
    {
     "name": "stdout",
     "output_type": "stream",
     "text": [
      "34\n"
     ]
    },
    {
     "data": {
      "image/png": "[encoded data removed]",
      "text/plain": [
       "<Figure size 80x80 with 1 Axes>"
      ]
     },
     "metadata": {
      "needs_background": "light"
     },
     "output_type": "display_data"
    },
    {
     "name": "stdout",
     "output_type": "stream",
     "text": [
      "35\n"
     ]
    },
    {
     "data": {
      "image/png": "[encoded data removed]",
      "text/plain": [
       "<Figure size 80x80 with 1 Axes>"
      ]
     },
     "metadata": {
      "needs_background": "light"
     },
     "output_type": "display_data"
    },
    {
     "name": "stdout",
     "output_type": "stream",
     "text": [
      "36\n"
     ]
    },
    {
     "data": {
      "image/png": "[encoded data removed]",
      "text/plain": [
       "<Figure size 80x80 with 1 Axes>"
      ]
     },
     "metadata": {
      "needs_background": "light"
     },
     "output_type": "display_data"
    },
    {
     "name": "stdout",
     "output_type": "stream",
     "text": [
      "37\n"
     ]
    },
    {
     "data": {
      "image/png": "[encoded data removed]",
      "text/plain": [
       "<Figure size 80x80 with 1 Axes>"
      ]
     },
     "metadata": {
      "needs_background": "light"
     },
     "output_type": "display_data"
    },
    {
     "name": "stdout",
     "output_type": "stream",
     "text": [
      "38\n"
     ]
    },
    {
     "data": {
      "image/png": "[encoded data removed]",
      "text/plain": [
       "<Figure size 80x80 with 1 Axes>"
      ]
     },
     "metadata": {
      "needs_background": "light"
     },
     "output_type": "display_data"
    },
    {
     "name": "stdout",
     "output_type": "stream",
     "text": [
      "39\n"
     ]
    },
    {
     "data": {
      "image/png": "[encoded data removed]",
      "text/plain": [
       "<Figure size 80x80 with 1 Axes>"
      ]
     },
     "metadata": {
      "needs_background": "light"
     },
     "output_type": "display_data"
    },
    {
     "name": "stdout",
     "output_type": "stream",
     "text": [
      "40\n"
     ]
    },
    {
     "data": {
      "image/png": "[encoded data removed]",
      "text/plain": [
       "<Figure size 80x80 with 1 Axes>"
      ]
     },
     "metadata": {
      "needs_background": "light"
     },
     "output_type": "display_data"
    },
    {
     "name": "stdout",
     "output_type": "stream",
     "text": [
      "41\n"
     ]
    },
    {
     "data": {
      "image/png": "[encoded data removed]",
      "text/plain": [
       "<Figure size 80x80 with 1 Axes>"
      ]
     },
     "metadata": {
      "needs_background": "light"
     },
     "output_type": "display_data"
    },
    {
     "name": "stdout",
     "output_type": "stream",
     "text": [
      "42\n"
     ]
    },
    {
     "data": {
      "image/png": "[encoded data removed]",
      "text/plain": [
       "<Figure size 80x80 with 1 Axes>"
      ]
     },
     "metadata": {
      "needs_background": "light"
     },
     "output_type": "display_data"
    },
    {
     "name": "stdout",
     "output_type": "stream",
     "text": [
      "43\n"
     ]
    },
    {
     "data": {
      "image/png": "[encoded data removed]",
      "text/plain": [
       "<Figure size 80x80 with 1 Axes>"
      ]
     },
     "metadata": {
      "needs_background": "light"
     },
     "output_type": "display_data"
    },
    {
     "name": "stdout",
     "output_type": "stream",
     "text": [
      "44\n"
     ]
    },
    {
     "data": {
      "image/png": "[encoded data removed]",
      "text/plain": [
       "<Figure size 80x80 with 1 Axes>"
      ]
     },
     "metadata": {
      "needs_background": "light"
     },
     "output_type": "display_data"
    },
    {
     "name": "stdout",
     "output_type": "stream",
     "text": [
      "45\n"
     ]
    },
    {
     "data": {
      "image/png": "[encoded data removed]",
      "text/plain": [
       "<Figure size 80x80 with 1 Axes>"
      ]
     },
     "metadata": {
      "needs_background": "light"
     },
     "output_type": "display_data"
    },
    {
     "name": "stdout",
     "output_type": "stream",
     "text": [
      "46\n"
     ]
    },
    {
     "data": {
      "image/png": "[encoded data removed]",
      "text/plain": [
       "<Figure size 80x80 with 1 Axes>"
      ]
     },
     "metadata": {
      "needs_background": "light"
     },
     "output_type": "display_data"
    },
    {
     "name": "stdout",
     "output_type": "stream",
     "text": [
      "47\n"
     ]
    },
    {
     "data": {
      "image/png": "[encoded data removed]",
      "text/plain": [
       "<Figure size 80x80 with 1 Axes>"
      ]
     },
     "metadata": {
      "needs_background": "light"
     },
     "output_type": "display_data"
    },
    {
     "name": "stdout",
     "output_type": "stream",
     "text": [
      "48\n"
     ]
    },
    {
     "data": {
      "image/png": "[encoded data removed]",
      "text/plain": [
       "<Figure size 80x80 with 1 Axes>"
      ]
     },
     "metadata": {
      "needs_background": "light"
     },
     "output_type": "display_data"
    },
    {
     "name": "stdout",
     "output_type": "stream",
     "text": [
      "49\n"
     ]
    },
    {
     "data": {
      "image/png": "[encoded data removed]",
      "text/plain": [
       "<Figure size 80x80 with 1 Axes>"
      ]
     },
     "metadata": {
      "needs_background": "light"
     },
     "output_type": "display_data"
    },
    {
     "name": "stdout",
     "output_type": "stream",
     "text": [
      "50\n"
     ]
    },
    {
     "data": {
      "image/png": "[encoded data removed]",
      "text/plain": [
       "<Figure size 80x80 with 1 Axes>"
      ]
     },
     "metadata": {
      "needs_background": "light"
     },
     "output_type": "display_data"
    },
    {
     "name": "stdout",
     "output_type": "stream",
     "text": [
      "51\n"
     ]
    },
    {
     "data": {
      "image/png": "[encoded data removed]",
      "text/plain": [
       "<Figure size 80x80 with 1 Axes>"
      ]
     },
     "metadata": {
      "needs_background": "light"
     },
     "output_type": "display_data"
    },
    {
     "name": "stdout",
     "output_type": "stream",
     "text": [
      "52\n"
     ]
    },
    {
     "data": {
      "image/png": "[encoded data removed]",
      "text/plain": [
       "<Figure size 80x80 with 1 Axes>"
      ]
     },
     "metadata": {
      "needs_background": "light"
     },
     "output_type": "display_data"
    },
    {
     "name": "stdout",
     "output_type": "stream",
     "text": [
      "53\n"
     ]
    },
    {
     "data": {
      "image/png": "[encoded data removed]",
      "text/plain": [
       "<Figure size 80x80 with 1 Axes>"
      ]
     },
     "metadata": {
      "needs_background": "light"
     },
     "output_type": "display_data"
    },
    {
     "name": "stdout",
     "output_type": "stream",
     "text": [
      "54\n"
     ]
    },
    {
     "data": {
      "image/png": "[encoded data removed]",
      "text/plain": [
       "<Figure size 80x80 with 1 Axes>"
      ]
     },
     "metadata": {
      "needs_background": "light"
     },
     "output_type": "display_data"
    },
    {
     "name": "stdout",
     "output_type": "stream",
     "text": [
      "55\n"
     ]
    },
    {
     "data": {
      "image/png": "[encoded data removed]",
      "text/plain": [
       "<Figure size 80x80 with 1 Axes>"
      ]
     },
     "metadata": {
      "needs_background": "light"
     },
     "output_type": "display_data"
    },
    {
     "name": "stdout",
     "output_type": "stream",
     "text": [
      "56\n"
     ]
    },
    {
     "data": {
      "image/png": "[encoded data removed]",
      "text/plain": [
       "<Figure size 80x80 with 1 Axes>"
      ]
     },
     "metadata": {
      "needs_background": "light"
     },
     "output_type": "display_data"
    },
    {
     "name": "stdout",
     "output_type": "stream",
     "text": [
      "57\n"
     ]
    },
    {
     "data": {
      "image/png": "[encoded data removed]",
      "text/plain": [
       "<Figure size 80x80 with 1 Axes>"
      ]
     },
     "metadata": {
      "needs_background": "light"
     },
     "output_type": "display_data"
    },
    {
     "name": "stdout",
     "output_type": "stream",
     "text": [
      "58\n"
     ]
    },
    {
     "data": {
      "image/png": "[encoded data removed]",
      "text/plain": [
       "<Figure size 80x80 with 1 Axes>"
      ]
     },
     "metadata": {
      "needs_background": "light"
     },
     "output_type": "display_data"
    },
    {
     "name": "stdout",
     "output_type": "stream",
     "text": [
      "59\n"
     ]
    },
    {
     "data": {
      "image/png": "[encoded data removed]",
      "text/plain": [
       "<Figure size 80x80 with 1 Axes>"
      ]
     },
     "metadata": {
      "needs_background": "light"
     },
     "output_type": "display_data"
    },
    {
     "name": "stdout",
     "output_type": "stream",
     "text": [
      "60\n"
     ]
    },
    {
     "data": {
      "image/png": "[encoded data removed]",
      "text/plain": [
       "<Figure size 80x80 with 1 Axes>"
      ]
     },
     "metadata": {
      "needs_background": "light"
     },
     "output_type": "display_data"
    },
    {
     "name": "stdout",
     "output_type": "stream",
     "text": [
      "61\n"
     ]
    },
    {
     "data": {
      "image/png": "[encoded data removed]",
      "text/plain": [
       "<Figure size 80x80 with 1 Axes>"
      ]
     },
     "metadata": {
      "needs_background": "light"
     },
     "output_type": "display_data"
    },
    {
     "name": "stdout",
     "output_type": "stream",
     "text": [
      "62\n"
     ]
    },
    {
     "data": {
      "image/png": "[encoded data removed]",
      "text/plain": [
       "<Figure size 80x80 with 1 Axes>"
      ]
     },
     "metadata": {
      "needs_background": "light"
     },
     "output_type": "display_data"
    },
    {
     "name": "stdout",
     "output_type": "stream",
     "text": [
      "63\n"
     ]
    },
    {
     "data": {
      "image/png": "[encoded data removed]",
      "text/plain": [
       "<Figure size 80x80 with 1 Axes>"
      ]
     },
     "metadata": {
      "needs_background": "light"
     },
     "output_type": "display_data"
    },
    {
     "name": "stdout",
     "output_type": "stream",
     "text": [
      "64\n"
     ]
    },
    {
     "data": {
      "image/png": "[encoded data removed]",
      "text/plain": [
       "<Figure size 80x80 with 1 Axes>"
      ]
     },
     "metadata": {
      "needs_background": "light"
     },
     "output_type": "display_data"
    },
    {
     "name": "stdout",
     "output_type": "stream",
     "text": [
      "65\n"
     ]
    },
    {
     "data": {
      "image/png": "[encoded data removed]",
      "text/plain": [
       "<Figure size 80x80 with 1 Axes>"
      ]
     },
     "metadata": {
      "needs_background": "light"
     },
     "output_type": "display_data"
    },
    {
     "name": "stdout",
     "output_type": "stream",
     "text": [
      "66\n"
     ]
    },
    {
     "data": {
      "image/png": "[encoded data removed]",
      "text/plain": [
       "<Figure size 80x80 with 1 Axes>"
      ]
     },
     "metadata": {
      "needs_background": "light"
     },
     "output_type": "display_data"
    },
    {
     "name": "stdout",
     "output_type": "stream",
     "text": [
      "67\n"
     ]
    },
    {
     "data": {
      "image/png": "[encoded data removed]",
      "text/plain": [
       "<Figure size 80x80 with 1 Axes>"
      ]
     },
     "metadata": {
      "needs_background": "light"
     },
     "output_type": "display_data"
    },
    {
     "name": "stdout",
     "output_type": "stream",
     "text": [
      "68\n"
     ]
    },
    {
     "data": {
      "image/png": "[encoded data removed]",
      "text/plain": [
       "<Figure size 80x80 with 1 Axes>"
      ]
     },
     "metadata": {
      "needs_background": "light"
     },
     "output_type": "display_data"
    },
    {
     "name": "stdout",
     "output_type": "stream",
     "text": [
      "69\n"
     ]
    },
    {
     "data": {
      "image/png": "[encoded data removed]",
      "text/plain": [
       "<Figure size 80x80 with 1 Axes>"
      ]
     },
     "metadata": {
      "needs_background": "light"
     },
     "output_type": "display_data"
    },
    {
     "name": "stdout",
     "output_type": "stream",
     "text": [
      "70\n"
     ]
    },
    {
     "data": {
      "image/png": "[encoded data removed]",
      "text/plain": [
       "<Figure size 80x80 with 1 Axes>"
      ]
     },
     "metadata": {
      "needs_background": "light"
     },
     "output_type": "display_data"
    },
    {
     "name": "stdout",
     "output_type": "stream",
     "text": [
      "71\n"
     ]
    },
    {
     "data": {
      "image/png": "[encoded data removed]",
      "text/plain": [
       "<Figure size 80x80 with 1 Axes>"
      ]
     },
     "metadata": {
      "needs_background": "light"
     },
     "output_type": "display_data"
    },
    {
     "name": "stdout",
     "output_type": "stream",
     "text": [
      "72\n"
     ]
    },
    {
     "data": {
      "image/png": "[encoded data removed]",
      "text/plain": [
       "<Figure size 80x80 with 1 Axes>"
      ]
     },
     "metadata": {
      "needs_background": "light"
     },
     "output_type": "display_data"
    },
    {
     "name": "stdout",
     "output_type": "stream",
     "text": [
      "73\n"
     ]
    },
    {
     "data": {
      "image/png": "[encoded data removed]",
      "text/plain": [
       "<Figure size 80x80 with 1 Axes>"
      ]
     },
     "metadata": {
      "needs_background": "light"
     },
     "output_type": "display_data"
    },
    {
     "name": "stdout",
     "output_type": "stream",
     "text": [
      "74\n"
     ]
    },
    {
     "data": {
      "image/png": "[encoded data removed]",
      "text/plain": [
       "<Figure size 80x80 with 1 Axes>"
      ]
     },
     "metadata": {
      "needs_background": "light"
     },
     "output_type": "display_data"
    },
    {
     "name": "stdout",
     "output_type": "stream",
     "text": [
      "75\n"
     ]
    },
    {
     "data": {
      "image/png": "[encoded data removed]",
      "text/plain": [
       "<Figure size 80x80 with 1 Axes>"
      ]
     },
     "metadata": {
      "needs_background": "light"
     },
     "output_type": "display_data"
    },
    {
     "name": "stdout",
     "output_type": "stream",
     "text": [
      "76\n"
     ]
    },
    {
     "data": {
      "image/png": "[encoded data removed]",
      "text/plain": [
       "<Figure size 80x80 with 1 Axes>"
      ]
     },
     "metadata": {
      "needs_background": "light"
     },
     "output_type": "display_data"
    },
    {
     "name": "stdout",
     "output_type": "stream",
     "text": [
      "77\n"
     ]
    },
    {
     "data": {
      "image/png": "[encoded data removed]",
      "text/plain": [
       "<Figure size 80x80 with 1 Axes>"
      ]
     },
     "metadata": {
      "needs_background": "light"
     },
     "output_type": "display_data"
    },
    {
     "name": "stdout",
     "output_type": "stream",
     "text": [
      "78\n"
     ]
    },
    {
     "data": {
      "image/png": "[encoded data removed]",
      "text/plain": [
       "<Figure size 80x80 with 1 Axes>"
      ]
     },
     "metadata": {
      "needs_background": "light"
     },
     "output_type": "display_data"
    },
    {
     "name": "stdout",
     "output_type": "stream",
     "text": [
      "79\n"
     ]
    },
    {
     "data": {
      "image/png": "[encoded data removed]",
      "text/plain": [
       "<Figure size 80x80 with 1 Axes>"
      ]
     },
     "metadata": {
      "needs_background": "light"
     },
     "output_type": "display_data"
    },
    {
     "name": "stdout",
     "output_type": "stream",
     "text": [
      "80\n"
     ]
    },
    {
     "data": {
      "image/png": "[encoded data removed]",
      "text/plain": [
       "<Figure size 80x80 with 1 Axes>"
      ]
     },
     "metadata": {
      "needs_background": "light"
     },
     "output_type": "display_data"
    }
   ],
   "source": [
    "def images(arrr):\n",
    "    arr2=[]\n",
    "    print(\"in images\")\n",
    "    for i in range(0,81):\n",
    "        img=arrr[i]\n",
    "        #print(i)\n",
    "        img=cv2.bitwise_not(img)\n",
    "        img=remnoise(img,20)\n",
    "        img=cv2.bitwise_not(img)\n",
    "        img=trimimg1(img)\n",
    "        img=setimg(img)\n",
    "        #img=dilateit(img,3)\n",
    "        #img=cv2.bitwise_not(img)\n",
    "        #img = cv2.erode(img, np.ones((4,4), np.uint8) , iterations=1)\n",
    "        #img = cv2.dilate(img, np.ones((2,2), np.uint8) , iterations=1)\n",
    "        #img=cv2.bitwise_not(img)\n",
    "        arr2.append(img)\n",
    "    \n",
    "    #for i in range(0,81):\n",
    "    #    chartit(arr2[i],1)\n",
    "    return arr2\n",
    "'''\n",
    "#for i in arr:\n",
    "#    chartit(i,1)\n",
    "#ar=images(arr)\n",
    "print(\"---------------------------------\")\n",
    "\n",
    "'''\n",
    "arr=images(ar)\n",
    "for i in range(0,81):\n",
    "    print(i)\n",
    "    chartit(arr[i],1)"
   ]
  },
  {
   "cell_type": "code",
   "execution_count": 33,
   "metadata": {
    "scrolled": true
   },
   "outputs": [
    {
     "name": "stdout",
     "output_type": "stream",
     "text": [
      "in images\n",
      "0\n"
     ]
    },
    {
     "data": {
      "image/png": "[encoded data removed]",
      "text/plain": [
       "<Figure size 80x80 with 1 Axes>"
      ]
     },
     "metadata": {
      "needs_background": "light"
     },
     "output_type": "display_data"
    },
    {
     "name": "stdout",
     "output_type": "stream",
     "text": [
      "5\n",
      "----------\n",
      "1\n"
     ]
    },
    {
     "data": {
      "image/png": "[encoded data removed]",
      "text/plain": [
       "<Figure size 80x80 with 1 Axes>"
      ]
     },
     "metadata": {
      "needs_background": "light"
     },
     "output_type": "display_data"
    },
    {
     "name": "stdout",
     "output_type": "stream",
     "text": [
      "3\n",
      "----------\n",
      "2\n",
      "declaring 0 as pixels = 0\n"
     ]
    },
    {
     "data": {
      "image/png": "[encoded data removed]",
      "text/plain": [
       "<Figure size 80x80 with 1 Axes>"
      ]
     },
     "metadata": {
      "needs_background": "light"
     },
     "output_type": "display_data"
    },
    {
     "name": "stdout",
     "output_type": "stream",
     "text": [
      "0\n",
      "----------\n",
      "3\n",
      "declaring 0 as pixels = 0\n"
     ]
    },
    {
     "data": {
      "image/png": "[encoded data removed]",
      "text/plain": [
       "<Figure size 80x80 with 1 Axes>"
      ]
     },
     "metadata": {
      "needs_background": "light"
     },
     "output_type": "display_data"
    },
    {
     "name": "stdout",
     "output_type": "stream",
     "text": [
      "0\n",
      "----------\n",
      "4\n"
     ]
    },
    {
     "data": {
      "image/png": "[encoded data removed]",
      "text/plain": [
       "<Figure size 80x80 with 1 Axes>"
      ]
     },
     "metadata": {
      "needs_background": "light"
     },
     "output_type": "display_data"
    },
    {
     "name": "stdout",
     "output_type": "stream",
     "text": [
      "7\n",
      "----------\n",
      "5\n",
      "declaring 0 as pixels = 0\n"
     ]
    },
    {
     "data": {
      "image/png": "[encoded data removed]",
      "text/plain": [
       "<Figure size 80x80 with 1 Axes>"
      ]
     },
     "metadata": {
      "needs_background": "light"
     },
     "output_type": "display_data"
    },
    {
     "name": "stdout",
     "output_type": "stream",
     "text": [
      "0\n",
      "----------\n",
      "6\n",
      "declaring 0 as pixels = 0\n"
     ]
    },
    {
     "data": {
      "image/png": "[encoded data removed]",
      "text/plain": [
       "<Figure size 80x80 with 1 Axes>"
      ]
     },
     "metadata": {
      "needs_background": "light"
     },
     "output_type": "display_data"
    },
    {
     "name": "stdout",
     "output_type": "stream",
     "text": [
      "0\n",
      "----------\n",
      "7\n",
      "declaring 0 as pixels = 0\n"
     ]
    },
    {
     "data": {
      "image/png": "[encoded data removed]",
      "text/plain": [
       "<Figure size 80x80 with 1 Axes>"
      ]
     },
     "metadata": {
      "needs_background": "light"
     },
     "output_type": "display_data"
    },
    {
     "name": "stdout",
     "output_type": "stream",
     "text": [
      "0\n",
      "----------\n",
      "8\n",
      "declaring 0 as pixels = 0\n"
     ]
    },
    {
     "data": {
      "image/png": "[encoded data removed]",
      "text/plain": [
       "<Figure size 80x80 with 1 Axes>"
      ]
     },
     "metadata": {
      "needs_background": "light"
     },
     "output_type": "display_data"
    },
    {
     "name": "stdout",
     "output_type": "stream",
     "text": [
      "0\n",
      "----------\n",
      "9\n"
     ]
    },
    {
     "data": {
      "image/png": "[encoded data removed]",
      "text/plain": [
       "<Figure size 80x80 with 1 Axes>"
      ]
     },
     "metadata": {
      "needs_background": "light"
     },
     "output_type": "display_data"
    },
    {
     "name": "stdout",
     "output_type": "stream",
     "text": [
      "6\n",
      "----------\n",
      "10\n",
      "declaring 0 as pixels = 0\n"
     ]
    },
    {
     "data": {
      "image/png": "[encoded data removed]",
      "text/plain": [
       "<Figure size 80x80 with 1 Axes>"
      ]
     },
     "metadata": {
      "needs_background": "light"
     },
     "output_type": "display_data"
    },
    {
     "name": "stdout",
     "output_type": "stream",
     "text": [
      "0\n",
      "----------\n",
      "11\n",
      "declaring 0 as pixels = 0\n"
     ]
    },
    {
     "data": {
      "image/png": "[encoded data removed]",
      "text/plain": [
       "<Figure size 80x80 with 1 Axes>"
      ]
     },
     "metadata": {
      "needs_background": "light"
     },
     "output_type": "display_data"
    },
    {
     "name": "stdout",
     "output_type": "stream",
     "text": [
      "0\n",
      "----------\n",
      "12\n"
     ]
    },
    {
     "data": {
      "image/png": "[encoded data removed]",
      "text/plain": [
       "<Figure size 80x80 with 1 Axes>"
      ]
     },
     "metadata": {
      "needs_background": "light"
     },
     "output_type": "display_data"
    },
    {
     "name": "stdout",
     "output_type": "stream",
     "text": [
      "1\n",
      "----------\n",
      "13\n"
     ]
    },
    {
     "data": {
      "image/png": "[encoded data removed]",
      "text/plain": [
       "<Figure size 80x80 with 1 Axes>"
      ]
     },
     "metadata": {
      "needs_background": "light"
     },
     "output_type": "display_data"
    },
    {
     "name": "stdout",
     "output_type": "stream",
     "text": [
      "9\n",
      "----------\n",
      "14\n"
     ]
    },
    {
     "data": {
      "image/png": "[encoded data removed]",
      "text/plain": [
       "<Figure size 80x80 with 1 Axes>"
      ]
     },
     "metadata": {
      "needs_background": "light"
     },
     "output_type": "display_data"
    },
    {
     "name": "stdout",
     "output_type": "stream",
     "text": [
      "5\n",
      "----------\n",
      "15\n",
      "declaring 0 as pixels = 0\n"
     ]
    },
    {
     "data": {
      "image/png": "[encoded data removed]",
      "text/plain": [
       "<Figure size 80x80 with 1 Axes>"
      ]
     },
     "metadata": {
      "needs_background": "light"
     },
     "output_type": "display_data"
    },
    {
     "name": "stdout",
     "output_type": "stream",
     "text": [
      "0\n",
      "----------\n",
      "16\n",
      "declaring 0 as pixels = 0\n"
     ]
    },
    {
     "data": {
      "image/png": "[encoded data removed]",
      "text/plain": [
       "<Figure size 80x80 with 1 Axes>"
      ]
     },
     "metadata": {
      "needs_background": "light"
     },
     "output_type": "display_data"
    },
    {
     "name": "stdout",
     "output_type": "stream",
     "text": [
      "0\n",
      "----------\n",
      "17\n",
      "declaring 0 as pixels = 0\n"
     ]
    },
    {
     "data": {
      "image/png": "[encoded data removed]",
      "text/plain": [
       "<Figure size 80x80 with 1 Axes>"
      ]
     },
     "metadata": {
      "needs_background": "light"
     },
     "output_type": "display_data"
    },
    {
     "name": "stdout",
     "output_type": "stream",
     "text": [
      "0\n",
      "----------\n",
      "18\n",
      "declaring 0 as pixels = 0\n"
     ]
    },
    {
     "data": {
      "image/png": "[encoded data removed]",
      "text/plain": [
       "<Figure size 80x80 with 1 Axes>"
      ]
     },
     "metadata": {
      "needs_background": "light"
     },
     "output_type": "display_data"
    },
    {
     "name": "stdout",
     "output_type": "stream",
     "text": [
      "0\n",
      "----------\n",
      "19\n"
     ]
    },
    {
     "data": {
      "image/png": "[encoded data removed]",
      "text/plain": [
       "<Figure size 80x80 with 1 Axes>"
      ]
     },
     "metadata": {
      "needs_background": "light"
     },
     "output_type": "display_data"
    },
    {
     "name": "stdout",
     "output_type": "stream",
     "text": [
      "9\n",
      "----------\n",
      "20\n"
     ]
    },
    {
     "data": {
      "image/png": "[encoded data removed]",
      "text/plain": [
       "<Figure size 80x80 with 1 Axes>"
      ]
     },
     "metadata": {
      "needs_background": "light"
     },
     "output_type": "display_data"
    },
    {
     "name": "stdout",
     "output_type": "stream",
     "text": [
      "8\n",
      "----------\n",
      "21\n",
      "declaring 0 as pixels = 0\n"
     ]
    },
    {
     "data": {
      "image/png": "[encoded data removed]",
      "text/plain": [
       "<Figure size 80x80 with 1 Axes>"
      ]
     },
     "metadata": {
      "needs_background": "light"
     },
     "output_type": "display_data"
    },
    {
     "name": "stdout",
     "output_type": "stream",
     "text": [
      "0\n",
      "----------\n",
      "22\n",
      "declaring 0 as pixels = 0\n"
     ]
    },
    {
     "data": {
      "image/png": "[encoded data removed]",
      "text/plain": [
       "<Figure size 80x80 with 1 Axes>"
      ]
     },
     "metadata": {
      "needs_background": "light"
     },
     "output_type": "display_data"
    },
    {
     "name": "stdout",
     "output_type": "stream",
     "text": [
      "0\n",
      "----------\n",
      "23\n",
      "declaring 0 as pixels = 0\n"
     ]
    },
    {
     "data": {
      "image/png": "[encoded data removed]",
      "text/plain": [
       "<Figure size 80x80 with 1 Axes>"
      ]
     },
     "metadata": {
      "needs_background": "light"
     },
     "output_type": "display_data"
    },
    {
     "name": "stdout",
     "output_type": "stream",
     "text": [
      "0\n",
      "----------\n",
      "24\n",
      "declaring 0 as pixels = 0\n"
     ]
    },
    {
     "data": {
      "image/png": "[encoded data removed]",
      "text/plain": [
       "<Figure size 80x80 with 1 Axes>"
      ]
     },
     "metadata": {
      "needs_background": "light"
     },
     "output_type": "display_data"
    },
    {
     "name": "stdout",
     "output_type": "stream",
     "text": [
      "0\n",
      "----------\n",
      "25\n"
     ]
    },
    {
     "data": {
      "image/png": "[encoded data removed]",
      "text/plain": [
       "<Figure size 80x80 with 1 Axes>"
      ]
     },
     "metadata": {
      "needs_background": "light"
     },
     "output_type": "display_data"
    },
    {
     "name": "stdout",
     "output_type": "stream",
     "text": [
      "6\n",
      "----------\n",
      "26\n",
      "declaring 0 as pixels = 0\n"
     ]
    },
    {
     "data": {
      "image/png": "[encoded data removed]",
      "text/plain": [
       "<Figure size 80x80 with 1 Axes>"
      ]
     },
     "metadata": {
      "needs_background": "light"
     },
     "output_type": "display_data"
    },
    {
     "name": "stdout",
     "output_type": "stream",
     "text": [
      "0\n",
      "----------\n",
      "27\n"
     ]
    },
    {
     "data": {
      "image/png": "[encoded data removed]",
      "text/plain": [
       "<Figure size 80x80 with 1 Axes>"
      ]
     },
     "metadata": {
      "needs_background": "light"
     },
     "output_type": "display_data"
    },
    {
     "name": "stdout",
     "output_type": "stream",
     "text": [
      "8\n",
      "----------\n",
      "28\n",
      "declaring 0 as pixels = 0\n"
     ]
    },
    {
     "data": {
      "image/png": "[encoded data removed]",
      "text/plain": [
       "<Figure size 80x80 with 1 Axes>"
      ]
     },
     "metadata": {
      "needs_background": "light"
     },
     "output_type": "display_data"
    },
    {
     "name": "stdout",
     "output_type": "stream",
     "text": [
      "0\n",
      "----------\n",
      "29\n",
      "declaring 0 as pixels = 0\n"
     ]
    },
    {
     "data": {
      "image/png": "[encoded data removed]",
      "text/plain": [
       "<Figure size 80x80 with 1 Axes>"
      ]
     },
     "metadata": {
      "needs_background": "light"
     },
     "output_type": "display_data"
    },
    {
     "name": "stdout",
     "output_type": "stream",
     "text": [
      "0\n",
      "----------\n",
      "30\n",
      "declaring 0 as pixels = 0\n"
     ]
    },
    {
     "data": {
      "image/png": "[encoded data removed]",
      "text/plain": [
       "<Figure size 80x80 with 1 Axes>"
      ]
     },
     "metadata": {
      "needs_background": "light"
     },
     "output_type": "display_data"
    },
    {
     "name": "stdout",
     "output_type": "stream",
     "text": [
      "0\n",
      "----------\n",
      "31\n"
     ]
    },
    {
     "data": {
      "image/png": "[encoded data removed]",
      "text/plain": [
       "<Figure size 80x80 with 1 Axes>"
      ]
     },
     "metadata": {
      "needs_background": "light"
     },
     "output_type": "display_data"
    },
    {
     "name": "stdout",
     "output_type": "stream",
     "text": [
      "6\n",
      "----------\n",
      "32\n",
      "declaring 0 as pixels = 0\n"
     ]
    },
    {
     "data": {
      "image/png": "[encoded data removed]",
      "text/plain": [
       "<Figure size 80x80 with 1 Axes>"
      ]
     },
     "metadata": {
      "needs_background": "light"
     },
     "output_type": "display_data"
    },
    {
     "name": "stdout",
     "output_type": "stream",
     "text": [
      "0\n",
      "----------\n",
      "33\n",
      "declaring 0 as pixels = 0\n"
     ]
    },
    {
     "data": {
      "image/png": "[encoded data removed]",
      "text/plain": [
       "<Figure size 80x80 with 1 Axes>"
      ]
     },
     "metadata": {
      "needs_background": "light"
     },
     "output_type": "display_data"
    },
    {
     "name": "stdout",
     "output_type": "stream",
     "text": [
      "0\n",
      "----------\n",
      "34\n",
      "declaring 0 as pixels = 0\n"
     ]
    },
    {
     "data": {
      "image/png": "[encoded data removed]",
      "text/plain": [
       "<Figure size 80x80 with 1 Axes>"
      ]
     },
     "metadata": {
      "needs_background": "light"
     },
     "output_type": "display_data"
    },
    {
     "name": "stdout",
     "output_type": "stream",
     "text": [
      "0\n",
      "----------\n",
      "35\n"
     ]
    },
    {
     "data": {
      "image/png": "[encoded data removed]",
      "text/plain": [
       "<Figure size 80x80 with 1 Axes>"
      ]
     },
     "metadata": {
      "needs_background": "light"
     },
     "output_type": "display_data"
    },
    {
     "name": "stdout",
     "output_type": "stream",
     "text": [
      "3\n",
      "----------\n",
      "36\n"
     ]
    },
    {
     "data": {
      "image/png": "[encoded data removed]",
      "text/plain": [
       "<Figure size 80x80 with 1 Axes>"
      ]
     },
     "metadata": {
      "needs_background": "light"
     },
     "output_type": "display_data"
    },
    {
     "name": "stdout",
     "output_type": "stream",
     "text": [
      "4\n",
      "----------\n",
      "37\n",
      "declaring 0 as pixels = 0\n"
     ]
    },
    {
     "data": {
      "image/png": "[encoded data removed]",
      "text/plain": [
       "<Figure size 80x80 with 1 Axes>"
      ]
     },
     "metadata": {
      "needs_background": "light"
     },
     "output_type": "display_data"
    },
    {
     "name": "stdout",
     "output_type": "stream",
     "text": [
      "0\n",
      "----------\n",
      "38\n",
      "declaring 0 as pixels = 0\n"
     ]
    },
    {
     "data": {
      "image/png": "[encoded data removed]",
      "text/plain": [
       "<Figure size 80x80 with 1 Axes>"
      ]
     },
     "metadata": {
      "needs_background": "light"
     },
     "output_type": "display_data"
    },
    {
     "name": "stdout",
     "output_type": "stream",
     "text": [
      "0\n",
      "----------\n",
      "39\n"
     ]
    },
    {
     "data": {
      "image/png": "[encoded data removed]",
      "text/plain": [
       "<Figure size 80x80 with 1 Axes>"
      ]
     },
     "metadata": {
      "needs_background": "light"
     },
     "output_type": "display_data"
    },
    {
     "name": "stdout",
     "output_type": "stream",
     "text": [
      "8\n",
      "----------\n",
      "40\n",
      "declaring 0 as pixels = 0\n"
     ]
    },
    {
     "data": {
      "image/png": "[encoded data removed]",
      "text/plain": [
       "<Figure size 80x80 with 1 Axes>"
      ]
     },
     "metadata": {
      "needs_background": "light"
     },
     "output_type": "display_data"
    },
    {
     "name": "stdout",
     "output_type": "stream",
     "text": [
      "0\n",
      "----------\n",
      "41\n"
     ]
    },
    {
     "data": {
      "image/png": "[encoded data removed]",
      "text/plain": [
       "<Figure size 80x80 with 1 Axes>"
      ]
     },
     "metadata": {
      "needs_background": "light"
     },
     "output_type": "display_data"
    },
    {
     "name": "stdout",
     "output_type": "stream",
     "text": [
      "3\n",
      "----------\n",
      "42\n",
      "declaring 0 as pixels = 0\n"
     ]
    },
    {
     "data": {
      "image/png": "[encoded data removed]",
      "text/plain": [
       "<Figure size 80x80 with 1 Axes>"
      ]
     },
     "metadata": {
      "needs_background": "light"
     },
     "output_type": "display_data"
    },
    {
     "name": "stdout",
     "output_type": "stream",
     "text": [
      "0\n",
      "----------\n",
      "43\n",
      "declaring 0 as pixels = 0\n"
     ]
    },
    {
     "data": {
      "image/png": "[encoded data removed]",
      "text/plain": [
       "<Figure size 80x80 with 1 Axes>"
      ]
     },
     "metadata": {
      "needs_background": "light"
     },
     "output_type": "display_data"
    },
    {
     "name": "stdout",
     "output_type": "stream",
     "text": [
      "0\n",
      "----------\n",
      "44\n"
     ]
    },
    {
     "data": {
      "image/png": "[encoded data removed]",
      "text/plain": [
       "<Figure size 80x80 with 1 Axes>"
      ]
     },
     "metadata": {
      "needs_background": "light"
     },
     "output_type": "display_data"
    },
    {
     "name": "stdout",
     "output_type": "stream",
     "text": [
      "1\n",
      "----------\n",
      "45\n"
     ]
    },
    {
     "data": {
      "image/png": "[encoded data removed]",
      "text/plain": [
       "<Figure size 80x80 with 1 Axes>"
      ]
     },
     "metadata": {
      "needs_background": "light"
     },
     "output_type": "display_data"
    },
    {
     "name": "stdout",
     "output_type": "stream",
     "text": [
      "7\n",
      "----------\n",
      "46\n",
      "declaring 0 as pixels = 0\n"
     ]
    },
    {
     "data": {
      "image/png": "[encoded data removed]",
      "text/plain": [
       "<Figure size 80x80 with 1 Axes>"
      ]
     },
     "metadata": {
      "needs_background": "light"
     },
     "output_type": "display_data"
    },
    {
     "name": "stdout",
     "output_type": "stream",
     "text": [
      "0\n",
      "----------\n",
      "47\n",
      "declaring 0 as pixels = 0\n"
     ]
    },
    {
     "data": {
      "image/png": "[encoded data removed]",
      "text/plain": [
       "<Figure size 80x80 with 1 Axes>"
      ]
     },
     "metadata": {
      "needs_background": "light"
     },
     "output_type": "display_data"
    },
    {
     "name": "stdout",
     "output_type": "stream",
     "text": [
      "0\n",
      "----------\n",
      "48\n",
      "declaring 0 as pixels = 0\n"
     ]
    },
    {
     "data": {
      "image/png": "[encoded data removed]",
      "text/plain": [
       "<Figure size 80x80 with 1 Axes>"
      ]
     },
     "metadata": {
      "needs_background": "light"
     },
     "output_type": "display_data"
    },
    {
     "name": "stdout",
     "output_type": "stream",
     "text": [
      "0\n",
      "----------\n",
      "49\n"
     ]
    },
    {
     "data": {
      "image/png": "[encoded data removed]",
      "text/plain": [
       "<Figure size 80x80 with 1 Axes>"
      ]
     },
     "metadata": {
      "needs_background": "light"
     },
     "output_type": "display_data"
    },
    {
     "name": "stdout",
     "output_type": "stream",
     "text": [
      "2\n",
      "----------\n",
      "50\n",
      "declaring 0 as pixels = 0\n"
     ]
    },
    {
     "data": {
      "image/png": "[encoded data removed]",
      "text/plain": [
       "<Figure size 80x80 with 1 Axes>"
      ]
     },
     "metadata": {
      "needs_background": "light"
     },
     "output_type": "display_data"
    },
    {
     "name": "stdout",
     "output_type": "stream",
     "text": [
      "0\n",
      "----------\n",
      "51\n",
      "declaring 0 as pixels = 0\n"
     ]
    },
    {
     "data": {
      "image/png": "[encoded data removed]",
      "text/plain": [
       "<Figure size 80x80 with 1 Axes>"
      ]
     },
     "metadata": {
      "needs_background": "light"
     },
     "output_type": "display_data"
    },
    {
     "name": "stdout",
     "output_type": "stream",
     "text": [
      "0\n",
      "----------\n",
      "52\n",
      "declaring 0 as pixels = 0\n"
     ]
    },
    {
     "data": {
      "image/png": "[encoded data removed]",
      "text/plain": [
       "<Figure size 80x80 with 1 Axes>"
      ]
     },
     "metadata": {
      "needs_background": "light"
     },
     "output_type": "display_data"
    },
    {
     "name": "stdout",
     "output_type": "stream",
     "text": [
      "0\n",
      "----------\n",
      "53\n"
     ]
    },
    {
     "data": {
      "image/png": "[encoded data removed]",
      "text/plain": [
       "<Figure size 80x80 with 1 Axes>"
      ]
     },
     "metadata": {
      "needs_background": "light"
     },
     "output_type": "display_data"
    },
    {
     "name": "stdout",
     "output_type": "stream",
     "text": [
      "6\n",
      "----------\n",
      "54\n",
      "declaring 0 as pixels = 0\n"
     ]
    },
    {
     "data": {
      "image/png": "[encoded data removed]",
      "text/plain": [
       "<Figure size 80x80 with 1 Axes>"
      ]
     },
     "metadata": {
      "needs_background": "light"
     },
     "output_type": "display_data"
    },
    {
     "name": "stdout",
     "output_type": "stream",
     "text": [
      "0\n",
      "----------\n",
      "55\n"
     ]
    },
    {
     "data": {
      "image/png": "[encoded data removed]",
      "text/plain": [
       "<Figure size 80x80 with 1 Axes>"
      ]
     },
     "metadata": {
      "needs_background": "light"
     },
     "output_type": "display_data"
    },
    {
     "name": "stdout",
     "output_type": "stream",
     "text": [
      "6\n",
      "----------\n",
      "56\n",
      "declaring 0 as pixels = 0\n"
     ]
    },
    {
     "data": {
      "image/png": "[encoded data removed]",
      "text/plain": [
       "<Figure size 80x80 with 1 Axes>"
      ]
     },
     "metadata": {
      "needs_background": "light"
     },
     "output_type": "display_data"
    },
    {
     "name": "stdout",
     "output_type": "stream",
     "text": [
      "0\n",
      "----------\n",
      "57\n",
      "declaring 0 as pixels = 0\n"
     ]
    },
    {
     "data": {
      "image/png": "[encoded data removed]",
      "text/plain": [
       "<Figure size 80x80 with 1 Axes>"
      ]
     },
     "metadata": {
      "needs_background": "light"
     },
     "output_type": "display_data"
    },
    {
     "name": "stdout",
     "output_type": "stream",
     "text": [
      "0\n",
      "----------\n",
      "58\n",
      "declaring 0 as pixels = 0\n"
     ]
    },
    {
     "data": {
      "image/png": "[encoded data removed]",
      "text/plain": [
       "<Figure size 80x80 with 1 Axes>"
      ]
     },
     "metadata": {
      "needs_background": "light"
     },
     "output_type": "display_data"
    },
    {
     "name": "stdout",
     "output_type": "stream",
     "text": [
      "0\n",
      "----------\n",
      "59\n",
      "declaring 0 as pixels = 0\n"
     ]
    },
    {
     "data": {
      "image/png": "[encoded data removed]",
      "text/plain": [
       "<Figure size 80x80 with 1 Axes>"
      ]
     },
     "metadata": {
      "needs_background": "light"
     },
     "output_type": "display_data"
    },
    {
     "name": "stdout",
     "output_type": "stream",
     "text": [
      "0\n",
      "----------\n",
      "60\n"
     ]
    },
    {
     "data": {
      "image/png": "[encoded data removed]",
      "text/plain": [
       "<Figure size 80x80 with 1 Axes>"
      ]
     },
     "metadata": {
      "needs_background": "light"
     },
     "output_type": "display_data"
    },
    {
     "name": "stdout",
     "output_type": "stream",
     "text": [
      "2\n",
      "----------\n",
      "61\n"
     ]
    },
    {
     "data": {
      "image/png": "[encoded data removed]",
      "text/plain": [
       "<Figure size 80x80 with 1 Axes>"
      ]
     },
     "metadata": {
      "needs_background": "light"
     },
     "output_type": "display_data"
    },
    {
     "name": "stdout",
     "output_type": "stream",
     "text": [
      "8\n",
      "----------\n",
      "62\n",
      "declaring 0 as pixels = 0\n"
     ]
    },
    {
     "data": {
      "image/png": "[encoded data removed]",
      "text/plain": [
       "<Figure size 80x80 with 1 Axes>"
      ]
     },
     "metadata": {
      "needs_background": "light"
     },
     "output_type": "display_data"
    },
    {
     "name": "stdout",
     "output_type": "stream",
     "text": [
      "0\n",
      "----------\n",
      "63\n",
      "declaring 0 as pixels = 0\n"
     ]
    },
    {
     "data": {
      "image/png": "[encoded data removed]",
      "text/plain": [
       "<Figure size 80x80 with 1 Axes>"
      ]
     },
     "metadata": {
      "needs_background": "light"
     },
     "output_type": "display_data"
    },
    {
     "name": "stdout",
     "output_type": "stream",
     "text": [
      "0\n",
      "----------\n",
      "64\n",
      "declaring 0 as pixels = 0\n"
     ]
    },
    {
     "data": {
      "image/png": "[encoded data removed]",
      "text/plain": [
       "<Figure size 80x80 with 1 Axes>"
      ]
     },
     "metadata": {
      "needs_background": "light"
     },
     "output_type": "display_data"
    },
    {
     "name": "stdout",
     "output_type": "stream",
     "text": [
      "0\n",
      "----------\n",
      "65\n",
      "declaring 0 as pixels = 0\n"
     ]
    },
    {
     "data": {
      "image/png": "[encoded data removed]",
      "text/plain": [
       "<Figure size 80x80 with 1 Axes>"
      ]
     },
     "metadata": {
      "needs_background": "light"
     },
     "output_type": "display_data"
    },
    {
     "name": "stdout",
     "output_type": "stream",
     "text": [
      "0\n",
      "----------\n",
      "66\n"
     ]
    },
    {
     "data": {
      "image/png": "[encoded data removed]",
      "text/plain": [
       "<Figure size 80x80 with 1 Axes>"
      ]
     },
     "metadata": {
      "needs_background": "light"
     },
     "output_type": "display_data"
    },
    {
     "name": "stdout",
     "output_type": "stream",
     "text": [
      "4\n",
      "----------\n",
      "67\n"
     ]
    },
    {
     "data": {
      "image/png": "[encoded data removed]",
      "text/plain": [
       "<Figure size 80x80 with 1 Axes>"
      ]
     },
     "metadata": {
      "needs_background": "light"
     },
     "output_type": "display_data"
    },
    {
     "name": "stdout",
     "output_type": "stream",
     "text": [
      "1\n",
      "----------\n",
      "68\n"
     ]
    },
    {
     "data": {
      "image/png": "[encoded data removed]",
      "text/plain": [
       "<Figure size 80x80 with 1 Axes>"
      ]
     },
     "metadata": {
      "needs_background": "light"
     },
     "output_type": "display_data"
    },
    {
     "name": "stdout",
     "output_type": "stream",
     "text": [
      "9\n",
      "----------\n",
      "69\n",
      "declaring 0 as pixels = 0\n"
     ]
    },
    {
     "data": {
      "image/png": "[encoded data removed]",
      "text/plain": [
       "<Figure size 80x80 with 1 Axes>"
      ]
     },
     "metadata": {
      "needs_background": "light"
     },
     "output_type": "display_data"
    },
    {
     "name": "stdout",
     "output_type": "stream",
     "text": [
      "0\n",
      "----------\n",
      "70\n",
      "declaring 0 as pixels = 0\n"
     ]
    },
    {
     "data": {
      "image/png": "[encoded data removed]",
      "text/plain": [
       "<Figure size 80x80 with 1 Axes>"
      ]
     },
     "metadata": {
      "needs_background": "light"
     },
     "output_type": "display_data"
    },
    {
     "name": "stdout",
     "output_type": "stream",
     "text": [
      "0\n",
      "----------\n",
      "71\n"
     ]
    },
    {
     "data": {
      "image/png": "[encoded data removed]",
      "text/plain": [
       "<Figure size 80x80 with 1 Axes>"
      ]
     },
     "metadata": {
      "needs_background": "light"
     },
     "output_type": "display_data"
    },
    {
     "name": "stdout",
     "output_type": "stream",
     "text": [
      "5\n",
      "----------\n",
      "72\n",
      "declaring 0 as pixels = 0\n"
     ]
    },
    {
     "data": {
      "image/png": "[encoded data removed]",
      "text/plain": [
       "<Figure size 80x80 with 1 Axes>"
      ]
     },
     "metadata": {
      "needs_background": "light"
     },
     "output_type": "display_data"
    },
    {
     "name": "stdout",
     "output_type": "stream",
     "text": [
      "0\n",
      "----------\n",
      "73\n",
      "declaring 0 as pixels = 0\n"
     ]
    },
    {
     "data": {
      "image/png": "[encoded data removed]",
      "text/plain": [
       "<Figure size 80x80 with 1 Axes>"
      ]
     },
     "metadata": {
      "needs_background": "light"
     },
     "output_type": "display_data"
    },
    {
     "name": "stdout",
     "output_type": "stream",
     "text": [
      "0\n",
      "----------\n",
      "74\n",
      "declaring 0 as pixels = 0\n"
     ]
    },
    {
     "data": {
      "image/png": "[encoded data removed]",
      "text/plain": [
       "<Figure size 80x80 with 1 Axes>"
      ]
     },
     "metadata": {
      "needs_background": "light"
     },
     "output_type": "display_data"
    },
    {
     "name": "stdout",
     "output_type": "stream",
     "text": [
      "0\n",
      "----------\n",
      "75\n",
      "declaring 0 as pixels = 0\n"
     ]
    },
    {
     "data": {
      "image/png": "[encoded data removed]",
      "text/plain": [
       "<Figure size 80x80 with 1 Axes>"
      ]
     },
     "metadata": {
      "needs_background": "light"
     },
     "output_type": "display_data"
    },
    {
     "name": "stdout",
     "output_type": "stream",
     "text": [
      "0\n",
      "----------\n",
      "76\n"
     ]
    },
    {
     "data": {
      "image/png": "[encoded data removed]",
      "text/plain": [
       "<Figure size 80x80 with 1 Axes>"
      ]
     },
     "metadata": {
      "needs_background": "light"
     },
     "output_type": "display_data"
    },
    {
     "name": "stdout",
     "output_type": "stream",
     "text": [
      "8\n",
      "----------\n",
      "77\n",
      "declaring 0 as pixels = 0\n"
     ]
    },
    {
     "data": {
      "image/png": "[encoded data removed]",
      "text/plain": [
       "<Figure size 80x80 with 1 Axes>"
      ]
     },
     "metadata": {
      "needs_background": "light"
     },
     "output_type": "display_data"
    },
    {
     "name": "stdout",
     "output_type": "stream",
     "text": [
      "0\n",
      "----------\n",
      "78\n",
      "declaring 0 as pixels = 0\n"
     ]
    },
    {
     "data": {
      "image/png": "[encoded data removed]",
      "text/plain": [
       "<Figure size 80x80 with 1 Axes>"
      ]
     },
     "metadata": {
      "needs_background": "light"
     },
     "output_type": "display_data"
    },
    {
     "name": "stdout",
     "output_type": "stream",
     "text": [
      "0\n",
      "----------\n",
      "79\n"
     ]
    },
    {
     "data": {
      "image/png": "[encoded data removed]",
      "text/plain": [
       "<Figure size 80x80 with 1 Axes>"
      ]
     },
     "metadata": {
      "needs_background": "light"
     },
     "output_type": "display_data"
    },
    {
     "name": "stdout",
     "output_type": "stream",
     "text": [
      "7\n",
      "----------\n",
      "80\n"
     ]
    },
    {
     "data": {
      "image/png": "[encoded data removed]",
      "text/plain": [
       "<Figure size 80x80 with 1 Axes>"
      ]
     },
     "metadata": {
      "needs_background": "light"
     },
     "output_type": "display_data"
    },
    {
     "name": "stdout",
     "output_type": "stream",
     "text": [
      "9\n",
      "----------\n",
      "[[5. 3. 0. 0. 7. 0. 0. 0. 0.]\n",
      " [6. 0. 0. 1. 9. 5. 0. 0. 0.]\n",
      " [0. 9. 8. 0. 0. 0. 0. 6. 0.]\n",
      " [8. 0. 0. 0. 6. 0. 0. 0. 3.]\n",
      " [4. 0. 0. 8. 0. 3. 0. 0. 1.]\n",
      " [7. 0. 0. 0. 2. 0. 0. 0. 6.]\n",
      " [0. 6. 0. 0. 0. 0. 2. 8. 0.]\n",
      " [0. 0. 0. 4. 1. 9. 0. 0. 5.]\n",
      " [0. 0. 0. 0. 8. 0. 0. 7. 9.]]\n"
     ]
    }
   ],
   "source": [
    "def predictsudoku(arrn):\n",
    "    ary=np.zeros((9,9))\n",
    "    for i in range(0,81):\n",
    "        print(i)\n",
    "        img=arrn[i]\n",
    "        \n",
    "        #img=thresholdit(img,100)\n",
    "        img=cv2.bitwise_not(img)\n",
    "        \n",
    "        num=predit(img)\n",
    "        chartit(img,1)\n",
    "        print(num)\n",
    "        \n",
    "        #stri=pt.image_to_string(img,config=(\"-c tessedit\"\n",
    "        #          \"_char_whitelist=123456789\"\n",
    "        #          \" --psm 10\"\n",
    "        #          \" -l osd\"\n",
    "        #          \" \"))\n",
    "        #print(stri)\n",
    "        #if(stri=='\\x0c'):\n",
    "        #    ary[int(i/9)][i%9]=0\n",
    "        #else:\n",
    "        #    ary[int(i/9)][i%9]=int(stri)\n",
    "        ary[int(i/9)][i%9]=int(num)\n",
    "        print('----------')\n",
    "    return ary\n",
    "arr=images(ar)\n",
    "#printarr(arr)\n",
    "#print('------------------------')\n",
    "array=predictsudoku(arr)\n",
    "print(array)\n",
    "#chartit(img_orig,5)"
   ]
  },
  {
   "cell_type": "code",
   "execution_count": 72,
   "metadata": {
    "scrolled": true
   },
   "outputs": [
    {
     "data": {
      "image/png": "[encoded data removed]",
      "text/plain": [
       "<Figure size 80x80 with 1 Axes>"
      ]
     },
     "metadata": {
      "needs_background": "light"
     },
     "output_type": "display_data"
    },
    {
     "name": "stdout",
     "output_type": "stream",
     "text": [
      "○○○○○○○●○○○○○○●○○○○○○○○○○○○○○○○○●●○○○○○○○○○○○○○○\n",
      "○○○○○○●●○○○○○●●●○○○○○○○○○○○○○○○○●●○○○○○○○○○○○○○○\n",
      "○○○○○○●●●●●●●●●●○○○○○○○○○○○○○○○○●●○○○○○○○○○○○○○○\n",
      "○○○○○●●●●●○○●●○○○○○○○○○○○○○○○○○○●●○○○○○○○○○○○○○○\n",
      "○○○○○●●●●●●○○●○○○○○○○○○○○○○○○○○○●●○○○○○○○○○○○○○○\n",
      "○○○○○○●●●○○○○○○○○○○○○○○○○○○○○○○○●●●○○○○○○○○○○○○○\n",
      "○○○○○○○○○○○○○○○○○○○○○○○○○○○○○○○○●●○○○○○○○○○○○○○○\n",
      "○○○○○○○○○○○○○○○○○○○○○○○○○○○○○○○○●●○○○○○○○○○○○○○○\n",
      "○○○○○○○○○○○○○○○○○○○○○○○○○○○○○○○○●●●○○○○○○○○○○○○○\n",
      "○○○○○○○○○○○○○○○○○○○○○○○○○○○○○○○○●●●○○○○○○○○○○○○○\n",
      "○○○○○○○○○○○○○○○○○○○○○○○○○○○○○○○○●●○○○○○○○○○○○○○○\n",
      "○○○○○○○○○○○○○○○○○○○○○○○○○○○○○○○○●●○○○○○○○○○○○○○○\n",
      "○○○○○○○○○○○○○○○○○○○○○○○○○○○○○○○○●●●○○○○○○○○○○○○○\n",
      "○○○○○○○○○○○○○○○○○○○○○○○○○○○○○○○○●●●○○○○○○○○○○○○○\n",
      "○○○○○○○○○○○○○○○○○○○○○○○○○○○○○○○○○●●○○○○○○○○○○○○○\n",
      "○○○○○○○○○○○○○○○○○○○○○○○○○○○○○○○○○●●○○○○○○○○○○○○○\n",
      "○○○○○○○○○○○○○○○○○○○○○○○○○○○○○○○○○●●○○○○○○○○○○○○○\n",
      "○○○○○○○○○○○○○○○○○○○○○○○○○○○○○○○○○●●○○○○○○○○○○○○○\n",
      "○○○○○○○○○○○○○○○○○○○○○○○○○○○○○○○○○●●○○○○○○○○○○○○○\n",
      "○○○○○○○○○○○○○○○○○○○○○○○○○○○○○○○○○●●○○○○○○○○○○○○○\n",
      "○○○○○○○○○○○○○○○○○○○○○○○○○○○○○○○○○●●○○○○○○○○○○○○○\n",
      "○○○○○○○○○○○○○○○○○○○○○○○○○○○○○○○○○●●○○○○○○○○○○○○○\n",
      "○○○○○○○○○○○○○○○○○○○○○○○○○○○○○○○○○●●○○○○○○○○○○○○○\n",
      "○○○○○○○○○○○○○○○○○○○○○○○○○○○○○○○○○●●○○○○○○○○○○○○○\n",
      "●●●●●●●●●●●●●●●●●●●●●○●●○○●○○●○○○●●○○○○○○○○○○○○○\n",
      "●●●●●●●●●●●●●●●●●●●●●●●●●●●●●●●●●●●●●●●●●●●●●●●●\n",
      "●●●●●●●●●●●●●●●●●●●●●●●●●●●●●●●●●●●●●●●●●●●●●●●●\n",
      "●●●●●●●●●●●●●●●●●●●●●●●●●●●●●●●●●●●●●●●●●●●●●●●●\n",
      "○○○○○○○○○○○○○○○○○○○○○○○○○○○○○○○○○○○○○○○○○○○○○○○○\n",
      "○○○○○○○○○○○○○○○○○○○○○○○○○○○○○○○○○○○○○○○○○○○○○○○○\n",
      "○○○○○○○○○○○○○○○○○○○○○○○○○○○○○○○○○○○○○○○○○○○○○○○○\n",
      "○○○○○○○○○○○○○○○○○○○○○○○○○○○○○○○○○○○○○○○○○○○○○○○○\n",
      "○○○○○○○○○○○○○○○○○○○○○○○○○○○○○○○○○○○○○○○○○○○○○○○○\n",
      "○○○○○○○○○○○○○○○○○○○○○○○○○○○○○○○○○○○○○○○○○○○○○○○○\n",
      "○○○○○○○○○○○○○○○○○○○○○○○○○○○○○○○○○○○○○○○○○○○○○○○○\n",
      "○○○○○○○○○○○○○○○○○○○○○○○○○○○○○○○○○○○○○○○○○○○○○○○○\n",
      "○○○○○○○○○○○○○○○○○○○○○○○○○○○○○○○○○○○○○○○○○○○○○○○○\n",
      "○○○○○○○○○○○○○○○○○○○○○○○○○○○○○○○○○○○○○○○○○○○○○○○○\n",
      "○○○○○○○○○○○○○○○○○○○○○○○○○○○○○○○○○○○○○○○○○○○○○○○○\n",
      "○○○○○○○○○○○○○○○○○○○○○○○○○○○○○○○○○○○○○○○○○○○○○○○○\n",
      "○○○○○○○○○○○○○○○○○○○○○○○○○○○○○○○○○○○○○○○○○○○○○○○○\n",
      "○○○○○○○○○○○○○○○○○○○○○○○○○○○○○○○○○○○○○○○○○○○○○○○○\n",
      "○○○○○○○○○○○○○○○○○○○○○○○○○○○○○○○○○○○○○○○○○○○○○○○○\n",
      "○○○○○○○○○○○○○○○○○○○○○○○○○○○○○○○○○○○○○○○○○○○○○○○○\n",
      "○○○○○○○○○○○○○○○○○○○○○○○○○○○○○○○○○○○○○○○○○○○○○○○○\n",
      "○○○○○○○○○○○○○○○○○○○○○○○○○○○○○○○○○○○○○○○○○○○○○○○○\n",
      "○○○○○○○○○○○○○○○○○○○○○○○○○○○○○○○○○○○○○○○○○○○○○○○○\n",
      "○○○○○○○○○○○○○○○○○○○○○○○○○○○○○○○○○○○○○○○○○○○○○○○○\n",
      "○○○○○○○○○○○○○○○○○○○○○○○○○○○○○○○○○○○○○○○○○○○○○○○○\n",
      "○○○○○○○○○○○○○○○○○○○○○○○○○○○○○○○○○○○○○○○○○○○○○○○○\n",
      "○○○○○○○○○○○○○○○○○○○○○○○○○○○○○○○○○○○○○○○○○○○○○○○○\n",
      "○○○○○○○○○○○○○○○○○○○○○○○○○○○○○○○○○○○○○○○○○○○○○○○○\n",
      "○○○○○○○○○○○○○○○○○○○○○○○○○○○○○○○○○○○○○○○○○○○○○○○○\n",
      "○○○○○○○○○○○○○○○○○○○○○○○○○○○○○○○○○○○○○○○○○○○○○○○○\n",
      "○○○○○○○○○○○○○○○○○○○○○○○○○○○○○○○○○○○○○○○○○○○○○○○○\n",
      "○○○○○○○○○○○○○○○○○○○○○○○○○○○○○○○○○○○○○○○○○○○○○○○○\n",
      "○○○○○○○○○○○○○○○○○○○○○○○○○○○○○○○○○○○○○○○○○○○○○○○○\n",
      "○○○○○○○○○○○○○○○○○○○○○○○○○○○○○○○○○○○○○○○○○○○○○○○○\n",
      "○○○○○○○○○○○○○○○○○○○○○○○○○○○○○○○○○○○○○○○○○○○○○○○○\n",
      "642\n"
     ]
    }
   ],
   "source": [
    "count=0\n",
    "img=arr[79]\n",
    "img=thresholdit(img,100)\n",
    "chartit(img,1)\n",
    "#img=trimimg1(img)\n",
    "printbychar(img)\n",
    "for i in range(0,28):\n",
    "    for j in range(0,28):\n",
    "        if(img[i][j]>=100):\n",
    "            count=count+1\n",
    "print(count)\n",
    "#saveit(img,\"discrepency predicting as 1\")"
   ]
  },
  {
   "cell_type": "markdown",
   "metadata": {
    "scrolled": true
   },
   "source": [
    "# Creating Showing Digits."
   ]
  },
  {
   "cell_type": "code",
   "execution_count": null,
   "metadata": {},
   "outputs": [],
   "source": [
    "ar=[]\n",
    "for i in range(0,10):\n",
    "    address=\"Numbers/\"+str(i)+\".jpg\"\n",
    "    a=cv2.imread(address,0)\n",
    "    ar.append(a)\n",
    "aa=[]\n",
    "for i in range(0,10):\n",
    "    a=ar[i]\n",
    "    for k in range(0,28):\n",
    "        for f in range(0,28):\n",
    "            if(k<1 or 27-k<1 or f<1 or 27-f<1):\n",
    "                a[k][f]=0\n",
    "    aa.append(a)\n",
    "for i in range(0,10):\n",
    "    a=aa[i]\n",
    "    chartit(a,1)\n",
    "    add='Numbers/'+str(i)+'_border.jpg'\n",
    "    cv2.imwrite(add,a)"
   ]
  },
  {
   "cell_type": "markdown",
   "metadata": {},
   "source": [
    "# Function Starts here"
   ]
  },
  {
   "cell_type": "code",
   "execution_count": 5,
   "metadata": {},
   "outputs": [],
   "source": [
    "import cv2\n",
    "import numpy as np\n",
    "import matplotlib.pyplot as plt\n",
    "import matplotlib.image as mpimg\n",
    "from matplotlib.pyplot import figure\n",
    "from PIL import Image\n",
    "from skimage import morphology\n",
    "import time\n",
    "#133628711111"
   ]
  },
  {
   "cell_type": "code",
   "execution_count": null,
   "metadata": {
    "scrolled": false
   },
   "outputs": [],
   "source": [
    "import tensorflow as tf\n",
    "from tensorflow import keras\n",
    "from keras import models\n",
    "#model.save('simple_sequential_model')\n",
    "model1 = keras.models.load_model('models/simple_sequential_model')\n",
    "#model2=keras.models.load_model('models/ResNet164.h5')\n",
    "#model3=keras.models.load_model('models/SuperLearner.h5')\n",
    "#model4=keras.models.load_model('models/my_model.h5')\n",
    "model_new=keras.models.load_model('new_model.h5')\n",
    "model=model_new"
   ]
  },
  {
   "cell_type": "code",
   "execution_count": null,
   "metadata": {},
   "outputs": [],
   "source": [
    "sharpen_kernel = np.array([[-1,-1,-1], [-1,9,-1], [-1,-1,-1]])\n",
    "def sharpenit(img):\n",
    "    return cv2.filter2D(image, -1, sharpen_kernel)\n",
    "def dilateit(img,n):\n",
    "    return cv2.dilate(img,np.ones((n,n), np.uint8),iterations=1)\n",
    "def erodeit(img,n):\n",
    "    return cv2.erode(img,np.ones((n,n), np.uint8),iterations=1)\n",
    "def blurit(img,n):\n",
    "    return cv2.blur(img,(n,n))\n",
    "def notit(img):\n",
    "    return cv2.bitwise_not(img)\n",
    "def greyit(img):\n",
    "    return cv2.cvtColor(img, cv2.COLOR_BGR2GRAY)\n",
    "def thresholdit(img,n):\n",
    "    ret,thresh1 = cv2.threshold(img,n,255,cv2.THRESH_BINARY)\n",
    "    return thresh1\n",
    "def cannyit(img):\n",
    "    return cv2.Canny(img,60,200)\n",
    "def saveit(img,instruction):\n",
    "    strr=time.strftime(\"%H-%M-%S_%d-%m-%Y\")\n",
    "    path='sudoku images/'+instruction+'_'+strr+'.jpg'\n",
    "    cv2.imwrite(path,img)\n",
    "def printpixel(color,img):\n",
    "    y,x=img.shape[0],img.shape[1]\n",
    "    pixel=np.zeros((y,x))\n",
    "    for i in range(y):\n",
    "        for j in range(x):\n",
    "            pixel[i][j]=color\n",
    "    chartit(pixel,1)\n",
    "def make(img):\n",
    "    img=cv2.adaptiveThreshold(img,255,cv2.ADAPTIVE_THRESH_GAUSSIAN_C,cv2.THRESH_BINARY,5,2)\n",
    "    #img=cv2.bitwise_not(img)\n",
    "    #imgg=cv2.medianBlur(img,3)\n",
    "    return img\n",
    "def showit(img):\n",
    "    cv2.imshow('Hello',img)\n",
    "    cv2.waitKey(0)\n",
    "    cv2.destroyAllWindows()\n",
    "def chartit(img,n):\n",
    "    #fname = 'image.png'\n",
    "    #img=img.convert(\"L\")\n",
    "    figure(num=None, figsize=(n,n), dpi=80, edgecolor='k')\n",
    "    arr = np.asarray(img)\n",
    "    plt.imshow(arr, cmap='gray', vmin=0, vmax=255)\n",
    "    plt.show()\n",
    "    return\n",
    "    #plt.show()\n",
    "    #plt.imshow(img)\n",
    "def printbychar(img):\n",
    "    y,x=img.shape\n",
    "    for i in range (0,y):\n",
    "        for j in range (0,x):\n",
    "            if(img[i][j]==0):\n",
    "                print(\"●\",end=\"\")\n",
    "            else:\n",
    "                print(\"○\",end=\"\")\n",
    "        print()\n",
    "    return\n",
    "def printbyval(img):\n",
    "    y,x=img.shape\n",
    "    for i in range (0,y):\n",
    "        for j in range (0,x):\n",
    "            print(img[i][j],end=' ')\n",
    "        print()\n",
    "    return"
   ]
  },
  {
   "cell_type": "code",
   "execution_count": null,
   "metadata": {},
   "outputs": [],
   "source": [
    "def make(img):\n",
    "    img=cv2.adaptiveThreshold(img,255,cv2.ADAPTIVE_THRESH_GAUSSIAN_C,cv2.THRESH_BINARY,13,2)\n",
    "    #img=cv2.bitwise_not(img)\n",
    "    #imgg=cv2.medianBlur(img,3)\n",
    "    return img\n",
    "def setimg(img):\n",
    "    #img=greyit(img)\n",
    "    y,x=img.shape\n",
    "    if x==0 or y==0:\n",
    "        raise Exception(\"Image Dimension = 0\") \n",
    "        #print(\"Image dimension == 0\")\n",
    "        #return\n",
    "    if(x!=28 or y!=28):\n",
    "        img=cv2.resize(img,(28,28),interpolation = cv2.INTER_AREA)\n",
    "    return img\n",
    "def predit(img):\n",
    "    ## chartit(img,1)\n",
    "    y,x=img.shape\n",
    "    ## print(img.shape)\n",
    "    if(y!=28 or x!=28):\n",
    "        img=setimg(img)\n",
    "        ## print(\"changing shapes \",img.shape)\n",
    "    \n",
    "    count=0\n",
    "    for i in range(0,28):\n",
    "        for j in range(0,28):\n",
    "            if(img[i][j]>=200):\n",
    "                count=count+1\n",
    "    if(count<=15):\n",
    "        print(\"declaring 0 as pixels =\",count)\n",
    "        return 0\n",
    "    img = tf.cast(img, tf.float32)\n",
    "    set1=img\n",
    "    set1=np.expand_dims(img,axis=2) \n",
    "    set1=np.expand_dims(set1,axis=0)\n",
    "    ## print(set1.shape)\n",
    "    i=model.predict(set1)\n",
    "    return (np.argmax(i))\n",
    "def remnoise(img,n):\n",
    "    # Works on Black Background with White fonts\n",
    "    #img=greyit(img)\n",
    "    binarized = np.where(img>0.1, 1, 0)\n",
    "    processed = morphology.remove_small_objects(binarized.astype(bool),min_size=n, connectivity=2).astype(int)\n",
    "    mask_x, mask_y = np.where(processed == 0)\n",
    "    img[mask_x, mask_y] = 256\n",
    "    return img\n",
    "def printarr(arr):\n",
    "    #r=arr.shape[0]\n",
    "    for i in range(0,81):\n",
    "        print(i)\n",
    "        chartit(arr[i],1)"
   ]
  },
  {
   "cell_type": "code",
   "execution_count": null,
   "metadata": {
    "scrolled": false
   },
   "outputs": [],
   "source": [
    "def show_sudoku(ar,orig):\n",
    "    dim=28*9\n",
    "    #image=[[]*dim]*dim\n",
    "    image=np.zeros((dim,dim))\n",
    "    arr=[]\n",
    "    for i in range(0,10):\n",
    "        address=\"Numbers/\"+str(i)+\"_border.jpg\"\n",
    "        a=cv2.imread(address,0)\n",
    "        arr.append(a)\n",
    "    \n",
    "    for i in range(0,9):\n",
    "        for j in range(0,9):\n",
    "            l=28*i\n",
    "            r=28*(i+1)\n",
    "            u=28*j\n",
    "            d=28*(j+1)\n",
    "            \n",
    "            #print(u,' ',d)\n",
    "            #print(l,' ',r)\n",
    "            num=ar[i][j]\n",
    "            numim=arr[num]\n",
    "            \n",
    "            if orig[i][j]!=0:\n",
    "                numim=cv2.bitwise_not(numim)\n",
    "            #chartit(numim,1)\n",
    "            for k in range(0,28):\n",
    "                for m in range(0,28):\n",
    "                    #print(u+k,' ',l+m)\n",
    "                    val=numim[m][k]\n",
    "                    image[l+m][u+k]=val\n",
    "    \n",
    "    chartit(image,5)\n",
    "'''\n",
    "ar=[[0,5,0,6,0,4,7,0,0],\n",
    "    [7,0,6,0,0,0,0,0,9],\n",
    "    [0,0,0,0,0,5,0,8,0],\n",
    "    [0,7,0,0,2,0,0,9,3],\n",
    "    [8,0,0,0,0,9,0,0,5],\n",
    "    [4,3,0,0,1,0,0,7,0],\n",
    "    [0,8,7,2,0,0,0,0,0],\n",
    "    [3,0,0,0,0,0,2,0,8],\n",
    "    [0,0,2,3,0,1,0,0,8]]\n",
    "orig=[[0,0,0,6,0,4,7,0,0],\n",
    "    [7,0,6,0,0,0,0,0,9],\n",
    "    [0,0,0,0,0,5,0,8,0],\n",
    "    [0,7,0,0,2,0,0,9,3],\n",
    "    [8,0,0,0,0,0,0,0,5],\n",
    "    [4,3,0,0,1,0,0,7,0],\n",
    "    [0,5,0,2,0,0,0,0,0],\n",
    "    [3,0,0,0,0,0,2,0,8],\n",
    "    [0,0,2,3,0,1,0,0,0]]\n",
    "show_sudoku(ar,orig)\n",
    "'''"
   ]
  },
  {
   "cell_type": "code",
   "execution_count": null,
   "metadata": {},
   "outputs": [],
   "source": [
    "def checkhorizontal(ar,i,j):\n",
    "    hor=[1,2,3,4,5,6,7,8,9]\n",
    "    for jj in range(0,9):\n",
    "        if ar[i][jj]!=0:\n",
    "            hor[ar[i][jj]-1]=0\n",
    "#        if hor[ar[i][jj]-1]==0 and ar[i][jj]!=0:\n",
    "#            print(\"Sudoku condition override \",ar[i][jj],\" found again.\")\n",
    "#            raise Exception(\"Exception found here\")\n",
    "        \n",
    "    return hor\n",
    "\n",
    "def checkvertical(ar,i,j):\n",
    "    ver=[1,2,3,4,5,6,7,8,9]\n",
    "    for ii in range(0,9):\n",
    "        if ar[ii][j]!=0:\n",
    "            ver[ar[ii][j]-1]=0\n",
    "#        if ver[ar[i][ii]-1]==0  and ar[i][ii]!=0:\n",
    "#            print(\"Sudoku condition override \",ar[i][ii],\" found again.\")\n",
    "#            raise Exception(\"Exception found here\")\n",
    "    return ver\n",
    "\n",
    "def checkbox(ar,i,j):\n",
    "    box=[1,2,3,4,5,6,7,8,9]\n",
    "    \n",
    "    pos_r=int((i/3))*3\n",
    "    pos_c=int((j/3))*3\n",
    "    \n",
    "    for i in range (0,9):\n",
    "        r=int(i/3)\n",
    "        c=int(i%3)\n",
    "        #print(pos_r,\" \",r,\" \",pos_c,\" \",c)\n",
    "        if ar[pos_r+r][pos_c+c]!=0:\n",
    "            box[ar[pos_r+r][pos_c+c]-1]=0\n",
    "    \n",
    "    return box\n",
    "    #basei=int(i/3)*3\n",
    "    #basej=int(j/3)*3\n",
    "    #print('\\n\\tbase i - ',basei,'\\n\\tbase j - ',basej)\n",
    "    #for bb in range(0,9):\n",
    "    #    print('\\ni - ',(basei+int(bb/3)),'\\nj - ',(basej+int(bb%3)))\n",
    "    #    box[ar[basei+int(bb/3)][basej+int(bb%3)]]=0\n",
    "    #return box\n",
    "\n",
    "def printing(ar,k):\n",
    "    print('\\n')\n",
    "    if k==0:\n",
    "        show_sudoku(ar,ar)\n",
    "        raise Exception(\"Completed\")\n",
    "    for i in range(0,9):\n",
    "        for j in range(0,9):\n",
    "            print(ar[i][j],end=' ')\n",
    "        print('\\n')\n",
    "    #    exit()\n",
    "        \n",
    "def increment(ar,i,j):\n",
    "    \n",
    "    if i==8 and j==8:\n",
    "        printing(ar,0)\n",
    "    \n",
    "    if j<8:\n",
    "        return i,j+1\n",
    "    \n",
    "    return i+1,0\n",
    "\n",
    "def decrement(ar,i,j):\n",
    "    if i==0 and j==0:\n",
    "        printing(ar,0)\n",
    "        \n",
    "    if i==8 and j==8:\n",
    "        printing(ar,0)\n",
    "        \n",
    "    if j>0:\n",
    "        return i,j-1\n",
    "    \n",
    "    return i-1,8\n",
    "\n",
    "def printrow(list):\n",
    "    for i in range(0,9):\n",
    "        if list[i]!=0:\n",
    "            print(i+1,end='')\n",
    "        else :\n",
    "            print(0,end='')\n",
    "\n",
    "#################################################"
   ]
  },
  {
   "cell_type": "code",
   "execution_count": null,
   "metadata": {
    "scrolled": true
   },
   "outputs": [],
   "source": [
    "def fix(ar,i,j):\n",
    "    ##print(\"============================\")\n",
    "    #print(i,\" \",j)\n",
    "    hor=checkhorizontal(ar,i,j)\n",
    "    ver=checkvertical(ar,i,j)\n",
    "    box=checkbox(ar,i,j)\n",
    "    ##print(hor)\n",
    "    ##print(ver)\n",
    "    ##print(box)\n",
    "    for pos in range(0,9):\n",
    "        if hor[pos]!=0 and ver[pos]!=0 and box[pos]!=0:\n",
    "            ar[i][j]=pos+1\n",
    "            \n",
    "            if(i==8 and j==8):\n",
    "                return ar,1\n",
    "            ii=i\n",
    "            jj=j\n",
    "            while ar[ii][jj]!=0:\n",
    "                if(ii==8 and jj==8):\n",
    "                    return ar,1\n",
    "                ii,jj=increment(ar,ii,jj)\n",
    "            arr,val=fix(ar,ii,jj)\n",
    "            if(val==1):\n",
    "                return arr,1\n",
    "            ar[i][j]=0\n",
    "    return ar,0\n",
    "'''\n",
    "def main():\n",
    "    ar=[[0,0,0,6,0,4,7,0,0],\n",
    "        [7,0,6,0,0,0,0,0,9],\n",
    "        [0,0,0,0,0,5,0,8,0],\n",
    "        [0,7,0,0,2,0,0,9,3],\n",
    "        [8,0,0,0,0,0,0,0,5],\n",
    "        [4,3,0,0,1,0,0,7,0],\n",
    "        [0,5,0,2,0,0,0,0,0],\n",
    "        [3,0,0,0,0,0,2,0,8],\n",
    "        [0,0,2,3,0,1,0,0,0]]\n",
    "    printing(ar,1)\n",
    "    array,val=fix(ar,0,0)\n",
    "    printing(ar,1)\n",
    "    print('##################')\n",
    "main()\n",
    "'''"
   ]
  },
  {
   "cell_type": "code",
   "execution_count": null,
   "metadata": {
    "scrolled": true
   },
   "outputs": [],
   "source": [
    "def trimimage(image):\n",
    "    #chartit(image)\n",
    "    img2=erodeit(image,4)\n",
    "    #img2=thresholdit(img2)\n",
    "    img=cannyit(img2)\n",
    "    lines = cv2.HoughLinesP(img,rho = 1,theta = 1*np.pi/180,threshold = 100,minLineLength = 100,maxLineGap = 1000)\n",
    "    #print(\"number of lines = \" , lines.shape)\n",
    "    #print(lines)\n",
    "    N = lines.shape[0]\n",
    "    img1=img.copy()\n",
    "    img3=img.copy()\n",
    "    img1[:,:]=0\n",
    "    for i in range(N):\n",
    "        x1 = lines[i][0][0]\n",
    "        y1 = lines[i][0][1]\n",
    "        x2 = lines[i][0][2]\n",
    "        y2 = lines[i][0][3]\n",
    "        img1=cv2.line(img1,(x1,y1),(x2,y2),(256,256,256),1)\n",
    "        img3=cv2.line(img3,(x1,y1),(x2,y2),(256,256,256),1)\n",
    "    chartit(img1,5)\n",
    "    chartit(img3,5)\n",
    "    lsthori=np.zeros((lines.shape[0],2))\n",
    "    lstvert=np.zeros((lines.shape[0],2))\n",
    "    lsth=0\n",
    "    lstv=0\n",
    "    for i in range (lines.shape[0]):\n",
    "        x1 = lines[i][0][0]\n",
    "        y1 = lines[i][0][1]\n",
    "        x2 = lines[i][0][2]\n",
    "        y2 = lines[i][0][3]\n",
    "        '''\n",
    "        xdiff=x2-x1\n",
    "        ydiff=y2-y1\n",
    "        if xdiff<0:\n",
    "            xdiff=xdiff*(-1)\n",
    "        if ydiff<0:\n",
    "            ydiff=ydiff*(-1)\n",
    "        '''\n",
    "        if (x2-x1)==0:\n",
    "            slope=1000\n",
    "        else:\n",
    "            slope=(y2-y1)/(x2-x1)\n",
    "            \n",
    "        if slope<0.25 and slope>-0.25:\n",
    "            lsthori[lsth][0]=(y2+y1)/2\n",
    "            lsthori[lsth][1]=slope\n",
    "            lsth=lsth+1\n",
    "            continue\n",
    "        if slope<=-10 or slope>=10:\n",
    "            lstvert[lstv][0]=(x2+x1)/2\n",
    "            lstvert[lstv][1]=slope\n",
    "            lstv=lstv+1\n",
    "            continue\n",
    "    #chartit(img12,10)\n",
    "    # print(\"Horizontal Points\\n\",lsthori)\n",
    "    # print(\"Vertical Points\\n\",lstvert)\n",
    "    bottom=lsthori[0][0]\n",
    "    top=lsthori[0][0]\n",
    "    right=lstvert[0][0]\n",
    "    left=lstvert[0][0]\n",
    "    \n",
    "    for i in range(lsth):\n",
    "        if bottom<lsthori[i][0]:\n",
    "            bottom=lsthori[i][0]\n",
    "        if top>lsthori[i][0]:\n",
    "            top=lsthori[i][0]\n",
    "    for i in range(lstv):\n",
    "        if right<lstvert[i][0]:\n",
    "            right=lstvert[i][0]\n",
    "        if left>lstvert[i][0]:\n",
    "            left=lstvert[i][0]\n",
    "    \n",
    "    #print(top,\" \",bottom)\n",
    "    #print(left,\" \",right)\n",
    "    top=int(top)\n",
    "    bottom=int(bottom)\n",
    "    left=int(left)\n",
    "    right=int(right)\n",
    "    trimimggg=image[top:bottom,left:right]\n",
    "    chartit(trimimggg,5)\n",
    "    arr,loc=getnum(image,trimimggg,bottom,left,top,right)\n",
    "    return arr,loc\n",
    "\n",
    "def getnum(img,trimg,b,l,t,r):\n",
    "    # img=cv2.cvtColor(img,cv2.COLOR_BGR2GRAY)\n",
    "    # print(\"in getnum\")\n",
    "    # chartit(trimg,5)\n",
    "    imgy=img.shape[0]\n",
    "    imgx=img.shape[1]\n",
    "    trimgy=trimg.shape[0]\n",
    "    trimgx=trimg.shape[1]\n",
    "    xx=trimgx/18\n",
    "    yy=trimgy/18\n",
    "    xc=trimgx/90\n",
    "    yc=trimgy/90\n",
    "    ii=0\n",
    "    arry=[]\n",
    "    loc=[]\n",
    "    #images=np.array((81,))\n",
    "    for j in range(9):\n",
    "        for i in range(9):\n",
    "            left=l+2*i*xx\n",
    "            if left-xx>=0:\n",
    "                left=left-xc\n",
    "            else:\n",
    "                left=0\n",
    "            \n",
    "            right=l+2*(i+1)*xx\n",
    "            if right+xx<=imgx:\n",
    "                right=right+xc\n",
    "            else:\n",
    "                right=imgx\n",
    "            \n",
    "            top=t+2*j*yy\n",
    "            if top-yy>=0:\n",
    "                top=top-yc\n",
    "            else:\n",
    "                top=0\n",
    "            \n",
    "            bottom=t+2*(j+1)*yy\n",
    "            if bottom+yy<=imgy:\n",
    "                bottom=bottom+yc\n",
    "            else:\n",
    "                bottom=imgy\n",
    "            top=int(top)\n",
    "            bottom=int(bottom)\n",
    "            right=int(right)\n",
    "            left=int(left)\n",
    "            im=img[top:bottom,left:right]\n",
    "            #im=cv2.cvtColor(im,cv2.COLOR_BGR2GRAY)\n",
    "            arry.append(im)\n",
    "            loc.append([top,bottom,left,right])\n",
    "            \n",
    "            print(\"Image \",i+1,\" \",j+1)\n",
    "            chartit(im,1)\n",
    "            \n",
    "            '''\n",
    "            ret,thrh = cv2.threshold(im,160,255,cv2.THRESH_BINARY)\n",
    "            chartit(im,2)\n",
    "            name='Images/Numbers/num'+str(ii)+\".jpg\"\n",
    "            cv2.imwrite(name,im)\n",
    "            ii=ii+1\n",
    "            '''\n",
    "            #val=pt.image_to_string(thrh)\n",
    "            #print(\"\\\"\",val,\"\\\"\")\n",
    "            print(im.shape)\n",
    "    return arry,loc\n",
    "\n",
    "def imagefromcam():\n",
    "    img2=np.zeros((1,1,1))\n",
    "    cam=cv2.VideoCapture(0)\n",
    "    while True:\n",
    "        ret_val,img=cam.read()\n",
    "        lines = cv2.HoughLinesP(cannyit(img),rho = 1,theta = 1*np.pi/180,\n",
    "                                threshold = 100,minLineLength = 100,maxLineGap = 10)\n",
    "        cv2.imshow(\"Window\",img)\n",
    "        img1=img.copy()\n",
    "        try:\n",
    "            N = lines.shape[0]\n",
    "        except:\n",
    "            N=0\n",
    "        for i in range(N):\n",
    "            x1 = lines[i][0][0]\n",
    "            y1 = lines[i][0][1]\n",
    "            x2 = lines[i][0][2]\n",
    "            y2 = lines[i][0][3]\n",
    "            img1=cv2.line(img1,(x1,y1),(x2,y2),(256,256,256),1)\n",
    "        cv2.imshow(\"Window\",img1)\n",
    "        img2=img.copy()\n",
    "        if cv2.waitKey(1) & 0xFF == ord('x'):\n",
    "            cv2.destroyAllWindows()\n",
    "            break\n",
    "    del(cam)\n",
    "    return img2\n",
    "\n",
    "def trimimg1(img): # Identifies black lines on white background\n",
    "    ## print('hello',img.shape)\n",
    "    imgg=img.copy()\n",
    "    y=img.shape[0]\n",
    "    x=img.shape[1]\n",
    "    img=erodeit(img,2)\n",
    "    vacx=int(x/4)\n",
    "    vacy=int(y/4)\n",
    "    #vacx=int((3*x)/8)\n",
    "    #vacy=int((3*y)/8)\n",
    "    top=0\n",
    "    bottom=y-1\n",
    "    left=0\n",
    "    right=x-1\n",
    "    \n",
    "    mid=int(y/2)\n",
    "    midsta=0\n",
    "    if y%2==0:\n",
    "        midsta=int(y/2)\n",
    "    else:\n",
    "        midsta=int((y/2)+1)\n",
    "    for i in range(0,mid):\n",
    "        vacant1=0\n",
    "        vacant2=0\n",
    "        interrupt=0\n",
    "        if top==0:\n",
    "            for j in range(0,x):\n",
    "                if(img[mid-i-1][j]!=0):\n",
    "                    if(vacant1<=vacx):\n",
    "                        vacant1=vacant1+1\n",
    "                        continue\n",
    "                    interrupt=1\n",
    "                    break\n",
    "            if interrupt==0:\n",
    "                top=mid-i\n",
    "        interrupt=0\n",
    "        if bottom==y-1:\n",
    "            for j in range(0,x):\n",
    "                if(img[mid+i][j]!=0):\n",
    "                    if(vacant2<=vacx):\n",
    "                        vacant2=vacant2+1\n",
    "                        continue\n",
    "                    interrupt=1\n",
    "                    break\n",
    "            if interrupt==0:\n",
    "                bottom=mid+i\n",
    "    \n",
    "    mid=int(x/2)\n",
    "    midsta=0\n",
    "    if x%2==0:\n",
    "        midsta=int(x/2)\n",
    "    else:\n",
    "        midsta=int((x/2)+1)\n",
    "    \n",
    "    for i in range(0,mid-1):\n",
    "        vacant1=0\n",
    "        vacant2=0\n",
    "        interrupt=0\n",
    "        if left==0:\n",
    "            for j in range(0,y):\n",
    "                if(img[j][mid-i-1]!=0):\n",
    "                    if(vacant1<=vacy):\n",
    "                        vacant1=vacant1+1\n",
    "                        continue\n",
    "                    interrupt=1\n",
    "                    break\n",
    "            if interrupt==0:\n",
    "                left=mid-i\n",
    "        interrupt=0\n",
    "        if right==x-1:\n",
    "            for j in range(0,y):\n",
    "                if(img[j][mid+i]!=0):\n",
    "                    if(vacant2<=vacy):\n",
    "                        vacant2=vacant2+1\n",
    "                        continue\n",
    "                    interrupt=1\n",
    "                    break\n",
    "            if interrupt==0:\n",
    "                right=mid+i\n",
    "    top=top+1\n",
    "    left=left+1\n",
    "    right=right-1\n",
    "    img=img[top:bottom,left:right]\n",
    "    \n",
    "    #img=imgg[top:bottom,left:right]\n",
    "    \n",
    "    img=setimg(img)\n",
    "    img=cv2.bitwise_not(img)\n",
    "    img=remnoise(img,30)\n",
    "    img=cv2.bitwise_not(img)\n",
    "    return img\n",
    "\n",
    "def images(arrr):\n",
    "    arr2=[]\n",
    "    print(\"in images\")\n",
    "    for i in range(0,81):\n",
    "        img=arrr[i]\n",
    "        img=cv2.bitwise_not(img)\n",
    "        img=remnoise(img,20)\n",
    "        img=cv2.bitwise_not(img)\n",
    "        img=trimimg1(img)\n",
    "        img=setimg(img)\n",
    "        #print(i)\n",
    "        #chartit(img,1)\n",
    "        #img=dilateit(img,3)\n",
    "        #img=cv2.bitwise_not(img)\n",
    "        #img = cv2.erode(img, np.ones((4,4), np.uint8) , iterations=1)\n",
    "        #img = cv2.dilate(img, np.ones((2,2), np.uint8) , iterations=1)\n",
    "        #img=cv2.bitwise_not(img)\n",
    "        arr2.append(img)\n",
    "    \n",
    "    #for i in range(0,81):\n",
    "    #    chartit(arr2[i],1)\n",
    "    return arr2\n",
    "\n",
    "def predictsudoku(arrn):\n",
    "    ary=np.zeros((9,9))\n",
    "    for i in range(0,81):\n",
    "        print(i)\n",
    "        img=arrn[i]\n",
    "        \n",
    "        #img=thresholdit(img,100)\n",
    "        img=cv2.bitwise_not(img)\n",
    "        \n",
    "        num=predit(img)\n",
    "        # chartit(img,1)\n",
    "        print(num)\n",
    "        \n",
    "        #stri=pt.image_to_string(img,config=(\"-c tessedit\"\n",
    "        #          \"_char_whitelist=123456789\"\n",
    "        #          \" --psm 10\"\n",
    "        #          \" -l osd\"\n",
    "        #          \" \"))\n",
    "        #print(stri)\n",
    "        #if(stri=='\\x0c'):\n",
    "        #    ary[int(i/9)][i%9]=0\n",
    "        #else:\n",
    "        #    ary[int(i/9)][i%9]=int(stri)\n",
    "        ary[int(i/9)][i%9]=int(num)\n",
    "        print('----------')\n",
    "    print(ary)\n",
    "    return ary"
   ]
  },
  {
   "cell_type": "code",
   "execution_count": 28,
   "metadata": {
    "scrolled": false
   },
   "outputs": [],
   "source": [
    "def main():\n",
    "    #imgg=imagefromcam()\n",
    "    img2=cv2.imread('sudoku images/original_image.jpg')\n",
    "    img3=cv2.imread('sudoku images/00_55_32--17_10_2020.jpg')\n",
    "    img4=cv2.imread('sudoku images/sudoku/su1.jpg')\n",
    "    img=img4\n",
    "    # showit(img)\n",
    "    img=greyit(img)\n",
    "    img=make(img)\n",
    "    chartit(img,5)\n",
    "    img=cv2.bitwise_not(img)\n",
    "    img=remnoise(img,45)\n",
    "    img=cv2.bitwise_not(img)\n",
    "    chartit(img,5)\n",
    "    #top,bottom,left,right,trimg=trimimage(img)\n",
    "    #arry=getnum(img,trimg,bottom,left,top,right)\n",
    "    ar,loc=trimimage(img)\n",
    "    \n",
    "    '''\n",
    "    ar=[[0,0,0,6,0,4,7,0,0],\n",
    "        [7,0,6,0,0,0,0,0,9],\n",
    "        [0,0,0,0,0,5,0,8,0],\n",
    "        [0,7,0,0,2,0,0,9,3],\n",
    "        [8,0,0,0,0,0,0,0,5],\n",
    "        [4,3,0,0,1,0,0,7,0],\n",
    "        [0,5,0,2,0,0,0,0,0],\n",
    "        [3,0,0,0,0,0,2,0,8],\n",
    "        [0,0,2,3,0,1,0,0,0]]\n",
    "    '''\n",
    "    \n",
    "    arr_trimmed=images(ar)\n",
    "    array2=predictsudoku(arr_trimmed)\n",
    "    array=np.array(array2)\n",
    "    array=array.astype(int)\n",
    "    print(array)\n",
    "    '''\n",
    "    i=0\n",
    "    j=0\n",
    "    while(array[i][j]!=0):\n",
    "        i,j=increment(array,i,j)\n",
    "    \n",
    "    #fix(ar2,i,j)\n",
    "    \n",
    "    array_final,val=fix(array,i,j)\n",
    "    printing(array,1)\n",
    "    printing(array_final,1)\n",
    "    show_sudoku(array_final,array2)\n",
    "    '''\n",
    "    print('##################')"
   ]
  },
  {
   "cell_type": "code",
   "execution_count": 29,
   "metadata": {
    "scrolled": true
   },
   "outputs": [
    {
     "data": {
      "image/png": "[encoded data removed]",
      "text/plain": [
       "<Figure size 400x400 with 1 Axes>"
      ]
     },
     "metadata": {
      "needs_background": "light"
     },
     "output_type": "display_data"
    },
    {
     "data": {
      "image/png": "[encoded data removed]",
      "text/plain": [
       "<Figure size 400x400 with 1 Axes>"
      ]
     },
     "metadata": {
      "needs_background": "light"
     },
     "output_type": "display_data"
    },
    {
     "data": {
      "image/png": "[encoded data removed]",
      "text/plain": [
       "<Figure size 400x400 with 1 Axes>"
      ]
     },
     "metadata": {
      "needs_background": "light"
     },
     "output_type": "display_data"
    },
    {
     "data": {
      "image/png": "[encoded data removed]",
      "text/plain": [
       "<Figure size 400x400 with 1 Axes>"
      ]
     },
     "metadata": {
      "needs_background": "light"
     },
     "output_type": "display_data"
    },
    {
     "data": {
      "image/png": "[encoded data removed]",
      "text/plain": [
       "<Figure size 400x400 with 1 Axes>"
      ]
     },
     "metadata": {
      "needs_background": "light"
     },
     "output_type": "display_data"
    },
    {
     "name": "stdout",
     "output_type": "stream",
     "text": [
      "Image  1   1\n"
     ]
    },
    {
     "data": {
      "image/png": "[encoded data removed]",
      "text/plain": [
       "<Figure size 80x80 with 1 Axes>"
      ]
     },
     "metadata": {
      "needs_background": "light"
     },
     "output_type": "display_data"
    },
    {
     "name": "stdout",
     "output_type": "stream",
     "text": [
      "(24, 25)\n",
      "Image  2   1\n"
     ]
    },
    {
     "data": {
      "image/png": "[encoded data removed]",
      "text/plain": [
       "<Figure size 80x80 with 1 Axes>"
      ]
     },
     "metadata": {
      "needs_background": "light"
     },
     "output_type": "display_data"
    },
    {
     "name": "stdout",
     "output_type": "stream",
     "text": [
      "(24, 24)\n",
      "Image  3   1\n"
     ]
    },
    {
     "data": {
      "image/png": "[encoded data removed]",
      "text/plain": [
       "<Figure size 80x80 with 1 Axes>"
      ]
     },
     "metadata": {
      "needs_background": "light"
     },
     "output_type": "display_data"
    },
    {
     "name": "stdout",
     "output_type": "stream",
     "text": [
      "(24, 25)\n",
      "Image  4   1\n"
     ]
    },
    {
     "data": {
      "image/png": "[encoded data removed]",
      "text/plain": [
       "<Figure size 80x80 with 1 Axes>"
      ]
     },
     "metadata": {
      "needs_background": "light"
     },
     "output_type": "display_data"
    },
    {
     "name": "stdout",
     "output_type": "stream",
     "text": [
      "(24, 25)\n",
      "Image  5   1\n"
     ]
    },
    {
     "data": {
      "image/png": "[encoded data removed]",
      "text/plain": [
       "<Figure size 80x80 with 1 Axes>"
      ]
     },
     "metadata": {
      "needs_background": "light"
     },
     "output_type": "display_data"
    },
    {
     "name": "stdout",
     "output_type": "stream",
     "text": [
      "(24, 24)\n",
      "Image  6   1\n"
     ]
    },
    {
     "data": {
      "image/png": "[encoded data removed]",
      "text/plain": [
       "<Figure size 80x80 with 1 Axes>"
      ]
     },
     "metadata": {
      "needs_background": "light"
     },
     "output_type": "display_data"
    },
    {
     "name": "stdout",
     "output_type": "stream",
     "text": [
      "(24, 25)\n",
      "Image  7   1\n"
     ]
    },
    {
     "data": {
      "image/png": "[encoded data removed]",
      "text/plain": [
       "<Figure size 80x80 with 1 Axes>"
      ]
     },
     "metadata": {
      "needs_background": "light"
     },
     "output_type": "display_data"
    },
    {
     "name": "stdout",
     "output_type": "stream",
     "text": [
      "(24, 25)\n",
      "Image  8   1\n"
     ]
    },
    {
     "data": {
      "image/png": "[encoded data removed]",
      "text/plain": [
       "<Figure size 80x80 with 1 Axes>"
      ]
     },
     "metadata": {
      "needs_background": "light"
     },
     "output_type": "display_data"
    },
    {
     "name": "stdout",
     "output_type": "stream",
     "text": [
      "(24, 24)\n",
      "Image  9   1\n"
     ]
    },
    {
     "data": {
      "image/png": "[encoded data removed]",
      "text/plain": [
       "<Figure size 80x80 with 1 Axes>"
      ]
     },
     "metadata": {
      "needs_background": "light"
     },
     "output_type": "display_data"
    },
    {
     "name": "stdout",
     "output_type": "stream",
     "text": [
      "(24, 27)\n",
      "Image  1   2\n"
     ]
    },
    {
     "data": {
      "image/png": "[encoded data removed]",
      "text/plain": [
       "<Figure size 80x80 with 1 Axes>"
      ]
     },
     "metadata": {
      "needs_background": "light"
     },
     "output_type": "display_data"
    },
    {
     "name": "stdout",
     "output_type": "stream",
     "text": [
      "(24, 25)\n",
      "Image  2   2\n"
     ]
    },
    {
     "data": {
      "image/png": "[encoded data removed]",
      "text/plain": [
       "<Figure size 80x80 with 1 Axes>"
      ]
     },
     "metadata": {
      "needs_background": "light"
     },
     "output_type": "display_data"
    },
    {
     "name": "stdout",
     "output_type": "stream",
     "text": [
      "(24, 24)\n",
      "Image  3   2\n"
     ]
    },
    {
     "data": {
      "image/png": "[encoded data removed]",
      "text/plain": [
       "<Figure size 80x80 with 1 Axes>"
      ]
     },
     "metadata": {
      "needs_background": "light"
     },
     "output_type": "display_data"
    },
    {
     "name": "stdout",
     "output_type": "stream",
     "text": [
      "(24, 25)\n",
      "Image  4   2\n"
     ]
    },
    {
     "data": {
      "image/png": "[encoded data removed]",
      "text/plain": [
       "<Figure size 80x80 with 1 Axes>"
      ]
     },
     "metadata": {
      "needs_background": "light"
     },
     "output_type": "display_data"
    },
    {
     "name": "stdout",
     "output_type": "stream",
     "text": [
      "(24, 25)\n",
      "Image  5   2\n"
     ]
    },
    {
     "data": {
      "image/png": "[encoded data removed]",
      "text/plain": [
       "<Figure size 80x80 with 1 Axes>"
      ]
     },
     "metadata": {
      "needs_background": "light"
     },
     "output_type": "display_data"
    },
    {
     "name": "stdout",
     "output_type": "stream",
     "text": [
      "(24, 24)\n",
      "Image  6   2\n"
     ]
    },
    {
     "data": {
      "image/png": "[encoded data removed]",
      "text/plain": [
       "<Figure size 80x80 with 1 Axes>"
      ]
     },
     "metadata": {
      "needs_background": "light"
     },
     "output_type": "display_data"
    },
    {
     "name": "stdout",
     "output_type": "stream",
     "text": [
      "(24, 25)\n",
      "Image  7   2\n"
     ]
    },
    {
     "data": {
      "image/png": "[encoded data removed]",
      "text/plain": [
       "<Figure size 80x80 with 1 Axes>"
      ]
     },
     "metadata": {
      "needs_background": "light"
     },
     "output_type": "display_data"
    },
    {
     "name": "stdout",
     "output_type": "stream",
     "text": [
      "(24, 25)\n",
      "Image  8   2\n"
     ]
    },
    {
     "data": {
      "image/png": "[encoded data removed]",
      "text/plain": [
       "<Figure size 80x80 with 1 Axes>"
      ]
     },
     "metadata": {
      "needs_background": "light"
     },
     "output_type": "display_data"
    },
    {
     "name": "stdout",
     "output_type": "stream",
     "text": [
      "(24, 24)\n",
      "Image  9   2\n"
     ]
    },
    {
     "data": {
      "image/png": "[encoded data removed]",
      "text/plain": [
       "<Figure size 80x80 with 1 Axes>"
      ]
     },
     "metadata": {
      "needs_background": "light"
     },
     "output_type": "display_data"
    },
    {
     "name": "stdout",
     "output_type": "stream",
     "text": [
      "(24, 27)\n",
      "Image  1   3\n"
     ]
    },
    {
     "data": {
      "image/png": "[encoded data removed]",
      "text/plain": [
       "<Figure size 80x80 with 1 Axes>"
      ]
     },
     "metadata": {
      "needs_background": "light"
     },
     "output_type": "display_data"
    },
    {
     "name": "stdout",
     "output_type": "stream",
     "text": [
      "(24, 25)\n",
      "Image  2   3\n"
     ]
    },
    {
     "data": {
      "image/png": "[encoded data removed]",
      "text/plain": [
       "<Figure size 80x80 with 1 Axes>"
      ]
     },
     "metadata": {
      "needs_background": "light"
     },
     "output_type": "display_data"
    },
    {
     "name": "stdout",
     "output_type": "stream",
     "text": [
      "(24, 24)\n",
      "Image  3   3\n"
     ]
    },
    {
     "data": {
      "image/png": "[encoded data removed]",
      "text/plain": [
       "<Figure size 80x80 with 1 Axes>"
      ]
     },
     "metadata": {
      "needs_background": "light"
     },
     "output_type": "display_data"
    },
    {
     "name": "stdout",
     "output_type": "stream",
     "text": [
      "(24, 25)\n",
      "Image  4   3\n"
     ]
    },
    {
     "data": {
      "image/png": "[encoded data removed]",
      "text/plain": [
       "<Figure size 80x80 with 1 Axes>"
      ]
     },
     "metadata": {
      "needs_background": "light"
     },
     "output_type": "display_data"
    },
    {
     "name": "stdout",
     "output_type": "stream",
     "text": [
      "(24, 25)\n",
      "Image  5   3\n"
     ]
    },
    {
     "data": {
      "image/png": "[encoded data removed]",
      "text/plain": [
       "<Figure size 80x80 with 1 Axes>"
      ]
     },
     "metadata": {
      "needs_background": "light"
     },
     "output_type": "display_data"
    },
    {
     "name": "stdout",
     "output_type": "stream",
     "text": [
      "(24, 24)\n",
      "Image  6   3\n"
     ]
    },
    {
     "data": {
      "image/png": "[encoded data removed]",
      "text/plain": [
       "<Figure size 80x80 with 1 Axes>"
      ]
     },
     "metadata": {
      "needs_background": "light"
     },
     "output_type": "display_data"
    },
    {
     "name": "stdout",
     "output_type": "stream",
     "text": [
      "(24, 25)\n",
      "Image  7   3\n"
     ]
    },
    {
     "data": {
      "image/png": "[encoded data removed]",
      "text/plain": [
       "<Figure size 80x80 with 1 Axes>"
      ]
     },
     "metadata": {
      "needs_background": "light"
     },
     "output_type": "display_data"
    },
    {
     "name": "stdout",
     "output_type": "stream",
     "text": [
      "(24, 25)\n",
      "Image  8   3\n"
     ]
    },
    {
     "data": {
      "image/png": "[encoded data removed]",
      "text/plain": [
       "<Figure size 80x80 with 1 Axes>"
      ]
     },
     "metadata": {
      "needs_background": "light"
     },
     "output_type": "display_data"
    },
    {
     "name": "stdout",
     "output_type": "stream",
     "text": [
      "(24, 24)\n",
      "Image  9   3\n"
     ]
    },
    {
     "data": {
      "image/png": "[encoded data removed]",
      "text/plain": [
       "<Figure size 80x80 with 1 Axes>"
      ]
     },
     "metadata": {
      "needs_background": "light"
     },
     "output_type": "display_data"
    },
    {
     "name": "stdout",
     "output_type": "stream",
     "text": [
      "(24, 27)\n",
      "Image  1   4\n"
     ]
    },
    {
     "data": {
      "image/png": "[encoded data removed]",
      "text/plain": [
       "<Figure size 80x80 with 1 Axes>"
      ]
     },
     "metadata": {
      "needs_background": "light"
     },
     "output_type": "display_data"
    },
    {
     "name": "stdout",
     "output_type": "stream",
     "text": [
      "(24, 25)\n",
      "Image  2   4\n"
     ]
    },
    {
     "data": {
      "image/png": "[encoded data removed]",
      "text/plain": [
       "<Figure size 80x80 with 1 Axes>"
      ]
     },
     "metadata": {
      "needs_background": "light"
     },
     "output_type": "display_data"
    },
    {
     "name": "stdout",
     "output_type": "stream",
     "text": [
      "(24, 24)\n",
      "Image  3   4\n"
     ]
    },
    {
     "data": {
      "image/png": "[encoded data removed]",
      "text/plain": [
       "<Figure size 80x80 with 1 Axes>"
      ]
     },
     "metadata": {
      "needs_background": "light"
     },
     "output_type": "display_data"
    },
    {
     "name": "stdout",
     "output_type": "stream",
     "text": [
      "(24, 25)\n",
      "Image  4   4\n"
     ]
    },
    {
     "data": {
      "image/png": "[encoded data removed]",
      "text/plain": [
       "<Figure size 80x80 with 1 Axes>"
      ]
     },
     "metadata": {
      "needs_background": "light"
     },
     "output_type": "display_data"
    },
    {
     "name": "stdout",
     "output_type": "stream",
     "text": [
      "(24, 25)\n",
      "Image  5   4\n"
     ]
    },
    {
     "data": {
      "image/png": "[encoded data removed]",
      "text/plain": [
       "<Figure size 80x80 with 1 Axes>"
      ]
     },
     "metadata": {
      "needs_background": "light"
     },
     "output_type": "display_data"
    },
    {
     "name": "stdout",
     "output_type": "stream",
     "text": [
      "(24, 24)\n",
      "Image  6   4\n"
     ]
    },
    {
     "data": {
      "image/png": "[encoded data removed]",
      "text/plain": [
       "<Figure size 80x80 with 1 Axes>"
      ]
     },
     "metadata": {
      "needs_background": "light"
     },
     "output_type": "display_data"
    },
    {
     "name": "stdout",
     "output_type": "stream",
     "text": [
      "(24, 25)\n",
      "Image  7   4\n"
     ]
    },
    {
     "data": {
      "image/png": "[encoded data removed]",
      "text/plain": [
       "<Figure size 80x80 with 1 Axes>"
      ]
     },
     "metadata": {
      "needs_background": "light"
     },
     "output_type": "display_data"
    },
    {
     "name": "stdout",
     "output_type": "stream",
     "text": [
      "(24, 25)\n",
      "Image  8   4\n"
     ]
    },
    {
     "data": {
      "image/png": "[encoded data removed]",
      "text/plain": [
       "<Figure size 80x80 with 1 Axes>"
      ]
     },
     "metadata": {
      "needs_background": "light"
     },
     "output_type": "display_data"
    },
    {
     "name": "stdout",
     "output_type": "stream",
     "text": [
      "(24, 24)\n",
      "Image  9   4\n"
     ]
    },
    {
     "data": {
      "image/png": "[encoded data removed]",
      "text/plain": [
       "<Figure size 80x80 with 1 Axes>"
      ]
     },
     "metadata": {
      "needs_background": "light"
     },
     "output_type": "display_data"
    },
    {
     "name": "stdout",
     "output_type": "stream",
     "text": [
      "(24, 27)\n",
      "Image  1   5\n"
     ]
    },
    {
     "data": {
      "image/png": "[encoded data removed]",
      "text/plain": [
       "<Figure size 80x80 with 1 Axes>"
      ]
     },
     "metadata": {
      "needs_background": "light"
     },
     "output_type": "display_data"
    },
    {
     "name": "stdout",
     "output_type": "stream",
     "text": [
      "(24, 25)\n",
      "Image  2   5\n"
     ]
    },
    {
     "data": {
      "image/png": "[encoded data removed]",
      "text/plain": [
       "<Figure size 80x80 with 1 Axes>"
      ]
     },
     "metadata": {
      "needs_background": "light"
     },
     "output_type": "display_data"
    },
    {
     "name": "stdout",
     "output_type": "stream",
     "text": [
      "(24, 24)\n",
      "Image  3   5\n"
     ]
    },
    {
     "data": {
      "image/png": "[encoded data removed]",
      "text/plain": [
       "<Figure size 80x80 with 1 Axes>"
      ]
     },
     "metadata": {
      "needs_background": "light"
     },
     "output_type": "display_data"
    },
    {
     "name": "stdout",
     "output_type": "stream",
     "text": [
      "(24, 25)\n",
      "Image  4   5\n"
     ]
    },
    {
     "data": {
      "image/png": "[encoded data removed]",
      "text/plain": [
       "<Figure size 80x80 with 1 Axes>"
      ]
     },
     "metadata": {
      "needs_background": "light"
     },
     "output_type": "display_data"
    },
    {
     "name": "stdout",
     "output_type": "stream",
     "text": [
      "(24, 25)\n",
      "Image  5   5\n"
     ]
    },
    {
     "data": {
      "image/png": "[encoded data removed]",
      "text/plain": [
       "<Figure size 80x80 with 1 Axes>"
      ]
     },
     "metadata": {
      "needs_background": "light"
     },
     "output_type": "display_data"
    },
    {
     "name": "stdout",
     "output_type": "stream",
     "text": [
      "(24, 24)\n",
      "Image  6   5\n"
     ]
    },
    {
     "data": {
      "image/png": "[encoded data removed]",
      "text/plain": [
       "<Figure size 80x80 with 1 Axes>"
      ]
     },
     "metadata": {
      "needs_background": "light"
     },
     "output_type": "display_data"
    },
    {
     "name": "stdout",
     "output_type": "stream",
     "text": [
      "(24, 25)\n",
      "Image  7   5\n"
     ]
    },
    {
     "data": {
      "image/png": "[encoded data removed]",
      "text/plain": [
       "<Figure size 80x80 with 1 Axes>"
      ]
     },
     "metadata": {
      "needs_background": "light"
     },
     "output_type": "display_data"
    },
    {
     "name": "stdout",
     "output_type": "stream",
     "text": [
      "(24, 25)\n",
      "Image  8   5\n"
     ]
    },
    {
     "data": {
      "image/png": "[encoded data removed]",
      "text/plain": [
       "<Figure size 80x80 with 1 Axes>"
      ]
     },
     "metadata": {
      "needs_background": "light"
     },
     "output_type": "display_data"
    },
    {
     "name": "stdout",
     "output_type": "stream",
     "text": [
      "(24, 24)\n",
      "Image  9   5\n"
     ]
    },
    {
     "data": {
      "image/png": "[encoded data removed]",
      "text/plain": [
       "<Figure size 80x80 with 1 Axes>"
      ]
     },
     "metadata": {
      "needs_background": "light"
     },
     "output_type": "display_data"
    },
    {
     "name": "stdout",
     "output_type": "stream",
     "text": [
      "(24, 27)\n",
      "Image  1   6\n"
     ]
    },
    {
     "data": {
      "image/png": "[encoded data removed]",
      "text/plain": [
       "<Figure size 80x80 with 1 Axes>"
      ]
     },
     "metadata": {
      "needs_background": "light"
     },
     "output_type": "display_data"
    },
    {
     "name": "stdout",
     "output_type": "stream",
     "text": [
      "(24, 25)\n",
      "Image  2   6\n"
     ]
    },
    {
     "data": {
      "image/png": "[encoded data removed]",
      "text/plain": [
       "<Figure size 80x80 with 1 Axes>"
      ]
     },
     "metadata": {
      "needs_background": "light"
     },
     "output_type": "display_data"
    },
    {
     "name": "stdout",
     "output_type": "stream",
     "text": [
      "(24, 24)\n",
      "Image  3   6\n"
     ]
    },
    {
     "data": {
      "image/png": "[encoded data removed]",
      "text/plain": [
       "<Figure size 80x80 with 1 Axes>"
      ]
     },
     "metadata": {
      "needs_background": "light"
     },
     "output_type": "display_data"
    },
    {
     "name": "stdout",
     "output_type": "stream",
     "text": [
      "(24, 25)\n",
      "Image  4   6\n"
     ]
    },
    {
     "data": {
      "image/png": "[encoded data removed]",
      "text/plain": [
       "<Figure size 80x80 with 1 Axes>"
      ]
     },
     "metadata": {
      "needs_background": "light"
     },
     "output_type": "display_data"
    },
    {
     "name": "stdout",
     "output_type": "stream",
     "text": [
      "(24, 25)\n",
      "Image  5   6\n"
     ]
    },
    {
     "data": {
      "image/png": "[encoded data removed]",
      "text/plain": [
       "<Figure size 80x80 with 1 Axes>"
      ]
     },
     "metadata": {
      "needs_background": "light"
     },
     "output_type": "display_data"
    },
    {
     "name": "stdout",
     "output_type": "stream",
     "text": [
      "(24, 24)\n",
      "Image  6   6\n"
     ]
    },
    {
     "data": {
      "image/png": "[encoded data removed]",
      "text/plain": [
       "<Figure size 80x80 with 1 Axes>"
      ]
     },
     "metadata": {
      "needs_background": "light"
     },
     "output_type": "display_data"
    },
    {
     "name": "stdout",
     "output_type": "stream",
     "text": [
      "(24, 25)\n",
      "Image  7   6\n"
     ]
    },
    {
     "data": {
      "image/png": "[encoded data removed]",
      "text/plain": [
       "<Figure size 80x80 with 1 Axes>"
      ]
     },
     "metadata": {
      "needs_background": "light"
     },
     "output_type": "display_data"
    },
    {
     "name": "stdout",
     "output_type": "stream",
     "text": [
      "(24, 25)\n",
      "Image  8   6\n"
     ]
    },
    {
     "data": {
      "image/png": "[encoded data removed]",
      "text/plain": [
       "<Figure size 80x80 with 1 Axes>"
      ]
     },
     "metadata": {
      "needs_background": "light"
     },
     "output_type": "display_data"
    },
    {
     "name": "stdout",
     "output_type": "stream",
     "text": [
      "(24, 24)\n",
      "Image  9   6\n"
     ]
    },
    {
     "data": {
      "image/png": "[encoded data removed]",
      "text/plain": [
       "<Figure size 80x80 with 1 Axes>"
      ]
     },
     "metadata": {
      "needs_background": "light"
     },
     "output_type": "display_data"
    },
    {
     "name": "stdout",
     "output_type": "stream",
     "text": [
      "(24, 27)\n",
      "Image  1   7\n"
     ]
    },
    {
     "data": {
      "image/png": "[encoded data removed]",
      "text/plain": [
       "<Figure size 80x80 with 1 Axes>"
      ]
     },
     "metadata": {
      "needs_background": "light"
     },
     "output_type": "display_data"
    },
    {
     "name": "stdout",
     "output_type": "stream",
     "text": [
      "(24, 25)\n",
      "Image  2   7\n"
     ]
    },
    {
     "data": {
      "image/png": "[encoded data removed]",
      "text/plain": [
       "<Figure size 80x80 with 1 Axes>"
      ]
     },
     "metadata": {
      "needs_background": "light"
     },
     "output_type": "display_data"
    },
    {
     "name": "stdout",
     "output_type": "stream",
     "text": [
      "(24, 24)\n",
      "Image  3   7\n"
     ]
    },
    {
     "data": {
      "image/png": "[encoded data removed]",
      "text/plain": [
       "<Figure size 80x80 with 1 Axes>"
      ]
     },
     "metadata": {
      "needs_background": "light"
     },
     "output_type": "display_data"
    },
    {
     "name": "stdout",
     "output_type": "stream",
     "text": [
      "(24, 25)\n",
      "Image  4   7\n"
     ]
    },
    {
     "data": {
      "image/png": "[encoded data removed]",
      "text/plain": [
       "<Figure size 80x80 with 1 Axes>"
      ]
     },
     "metadata": {
      "needs_background": "light"
     },
     "output_type": "display_data"
    },
    {
     "name": "stdout",
     "output_type": "stream",
     "text": [
      "(24, 25)\n",
      "Image  5   7\n"
     ]
    },
    {
     "data": {
      "image/png": "[encoded data removed]",
      "text/plain": [
       "<Figure size 80x80 with 1 Axes>"
      ]
     },
     "metadata": {
      "needs_background": "light"
     },
     "output_type": "display_data"
    },
    {
     "name": "stdout",
     "output_type": "stream",
     "text": [
      "(24, 24)\n",
      "Image  6   7\n"
     ]
    },
    {
     "data": {
      "image/png": "[encoded data removed]",
      "text/plain": [
       "<Figure size 80x80 with 1 Axes>"
      ]
     },
     "metadata": {
      "needs_background": "light"
     },
     "output_type": "display_data"
    },
    {
     "name": "stdout",
     "output_type": "stream",
     "text": [
      "(24, 25)\n",
      "Image  7   7\n"
     ]
    },
    {
     "data": {
      "image/png": "[encoded data removed]",
      "text/plain": [
       "<Figure size 80x80 with 1 Axes>"
      ]
     },
     "metadata": {
      "needs_background": "light"
     },
     "output_type": "display_data"
    },
    {
     "name": "stdout",
     "output_type": "stream",
     "text": [
      "(24, 25)\n",
      "Image  8   7\n"
     ]
    },
    {
     "data": {
      "image/png": "[encoded data removed]",
      "text/plain": [
       "<Figure size 80x80 with 1 Axes>"
      ]
     },
     "metadata": {
      "needs_background": "light"
     },
     "output_type": "display_data"
    },
    {
     "name": "stdout",
     "output_type": "stream",
     "text": [
      "(24, 24)\n",
      "Image  9   7\n"
     ]
    },
    {
     "data": {
      "image/png": "[encoded data removed]",
      "text/plain": [
       "<Figure size 80x80 with 1 Axes>"
      ]
     },
     "metadata": {
      "needs_background": "light"
     },
     "output_type": "display_data"
    },
    {
     "name": "stdout",
     "output_type": "stream",
     "text": [
      "(24, 27)\n",
      "Image  1   8\n"
     ]
    },
    {
     "data": {
      "image/png": "[encoded data removed]",
      "text/plain": [
       "<Figure size 80x80 with 1 Axes>"
      ]
     },
     "metadata": {
      "needs_background": "light"
     },
     "output_type": "display_data"
    },
    {
     "name": "stdout",
     "output_type": "stream",
     "text": [
      "(24, 25)\n",
      "Image  2   8\n"
     ]
    },
    {
     "data": {
      "image/png": "[encoded data removed]",
      "text/plain": [
       "<Figure size 80x80 with 1 Axes>"
      ]
     },
     "metadata": {
      "needs_background": "light"
     },
     "output_type": "display_data"
    },
    {
     "name": "stdout",
     "output_type": "stream",
     "text": [
      "(24, 24)\n",
      "Image  3   8\n"
     ]
    },
    {
     "data": {
      "image/png": "[encoded data removed]",
      "text/plain": [
       "<Figure size 80x80 with 1 Axes>"
      ]
     },
     "metadata": {
      "needs_background": "light"
     },
     "output_type": "display_data"
    },
    {
     "name": "stdout",
     "output_type": "stream",
     "text": [
      "(24, 25)\n",
      "Image  4   8\n"
     ]
    },
    {
     "data": {
      "image/png": "[encoded data removed]",
      "text/plain": [
       "<Figure size 80x80 with 1 Axes>"
      ]
     },
     "metadata": {
      "needs_background": "light"
     },
     "output_type": "display_data"
    },
    {
     "name": "stdout",
     "output_type": "stream",
     "text": [
      "(24, 25)\n",
      "Image  5   8\n"
     ]
    },
    {
     "data": {
      "image/png": "[encoded data removed]",
      "text/plain": [
       "<Figure size 80x80 with 1 Axes>"
      ]
     },
     "metadata": {
      "needs_background": "light"
     },
     "output_type": "display_data"
    },
    {
     "name": "stdout",
     "output_type": "stream",
     "text": [
      "(24, 24)\n",
      "Image  6   8\n"
     ]
    },
    {
     "data": {
      "image/png": "[encoded data removed]",
      "text/plain": [
       "<Figure size 80x80 with 1 Axes>"
      ]
     },
     "metadata": {
      "needs_background": "light"
     },
     "output_type": "display_data"
    },
    {
     "name": "stdout",
     "output_type": "stream",
     "text": [
      "(24, 25)\n",
      "Image  7   8\n"
     ]
    },
    {
     "data": {
      "image/png": "[encoded data removed]",
      "text/plain": [
       "<Figure size 80x80 with 1 Axes>"
      ]
     },
     "metadata": {
      "needs_background": "light"
     },
     "output_type": "display_data"
    },
    {
     "name": "stdout",
     "output_type": "stream",
     "text": [
      "(24, 25)\n",
      "Image  8   8\n"
     ]
    },
    {
     "data": {
      "image/png": "[encoded data removed]",
      "text/plain": [
       "<Figure size 80x80 with 1 Axes>"
      ]
     },
     "metadata": {
      "needs_background": "light"
     },
     "output_type": "display_data"
    },
    {
     "name": "stdout",
     "output_type": "stream",
     "text": [
      "(24, 24)\n",
      "Image  9   8\n"
     ]
    },
    {
     "data": {
      "image/png": "[encoded data removed]",
      "text/plain": [
       "<Figure size 80x80 with 1 Axes>"
      ]
     },
     "metadata": {
      "needs_background": "light"
     },
     "output_type": "display_data"
    },
    {
     "name": "stdout",
     "output_type": "stream",
     "text": [
      "(24, 27)\n",
      "Image  1   9\n"
     ]
    },
    {
     "data": {
      "image/png": "[encoded data removed]",
      "text/plain": [
       "<Figure size 80x80 with 1 Axes>"
      ]
     },
     "metadata": {
      "needs_background": "light"
     },
     "output_type": "display_data"
    },
    {
     "name": "stdout",
     "output_type": "stream",
     "text": [
      "(23, 25)\n",
      "Image  2   9\n"
     ]
    },
    {
     "data": {
      "image/png": "[encoded data removed]",
      "text/plain": [
       "<Figure size 80x80 with 1 Axes>"
      ]
     },
     "metadata": {
      "needs_background": "light"
     },
     "output_type": "display_data"
    },
    {
     "name": "stdout",
     "output_type": "stream",
     "text": [
      "(23, 24)\n",
      "Image  3   9\n"
     ]
    },
    {
     "data": {
      "image/png": "[encoded data removed]",
      "text/plain": [
       "<Figure size 80x80 with 1 Axes>"
      ]
     },
     "metadata": {
      "needs_background": "light"
     },
     "output_type": "display_data"
    },
    {
     "name": "stdout",
     "output_type": "stream",
     "text": [
      "(23, 25)\n",
      "Image  4   9\n"
     ]
    },
    {
     "data": {
      "image/png": "[encoded data removed]",
      "text/plain": [
       "<Figure size 80x80 with 1 Axes>"
      ]
     },
     "metadata": {
      "needs_background": "light"
     },
     "output_type": "display_data"
    },
    {
     "name": "stdout",
     "output_type": "stream",
     "text": [
      "(23, 25)\n",
      "Image  5   9\n"
     ]
    },
    {
     "data": {
      "image/png": "[encoded data removed]",
      "text/plain": [
       "<Figure size 80x80 with 1 Axes>"
      ]
     },
     "metadata": {
      "needs_background": "light"
     },
     "output_type": "display_data"
    },
    {
     "name": "stdout",
     "output_type": "stream",
     "text": [
      "(23, 24)\n",
      "Image  6   9\n"
     ]
    },
    {
     "data": {
      "image/png": "[encoded data removed]",
      "text/plain": [
       "<Figure size 80x80 with 1 Axes>"
      ]
     },
     "metadata": {
      "needs_background": "light"
     },
     "output_type": "display_data"
    },
    {
     "name": "stdout",
     "output_type": "stream",
     "text": [
      "(23, 25)\n",
      "Image  7   9\n"
     ]
    },
    {
     "data": {
      "image/png": "[encoded data removed]",
      "text/plain": [
       "<Figure size 80x80 with 1 Axes>"
      ]
     },
     "metadata": {
      "needs_background": "light"
     },
     "output_type": "display_data"
    },
    {
     "name": "stdout",
     "output_type": "stream",
     "text": [
      "(23, 25)\n",
      "Image  8   9\n"
     ]
    },
    {
     "data": {
      "image/png": "[encoded data removed]",
      "text/plain": [
       "<Figure size 80x80 with 1 Axes>"
      ]
     },
     "metadata": {
      "needs_background": "light"
     },
     "output_type": "display_data"
    },
    {
     "name": "stdout",
     "output_type": "stream",
     "text": [
      "(23, 24)\n",
      "Image  9   9\n"
     ]
    },
    {
     "data": {
      "image/png": "[encoded data removed]",
      "text/plain": [
       "<Figure size 80x80 with 1 Axes>"
      ]
     },
     "metadata": {
      "needs_background": "light"
     },
     "output_type": "display_data"
    },
    {
     "name": "stdout",
     "output_type": "stream",
     "text": [
      "(23, 27)\n",
      "in images\n"
     ]
    },
    {
     "ename": "Exception",
     "evalue": "Image Dimension = 0",
     "output_type": "error",
     "traceback": [
      "\u001b[1;31m---------------------------------------------------------------------------\u001b[0m",
      "\u001b[1;31mException\u001b[0m                                 Traceback (most recent call last)",
      "\u001b[1;32m<ipython-input-29-263240bbee7e>\u001b[0m in \u001b[0;36m<module>\u001b[1;34m\u001b[0m\n\u001b[1;32m----> 1\u001b[1;33m \u001b[0mmain\u001b[0m\u001b[1;33m(\u001b[0m\u001b[1;33m)\u001b[0m\u001b[1;33m\u001b[0m\u001b[1;33m\u001b[0m\u001b[0m\n\u001b[0m",
      "\u001b[1;32m<ipython-input-28-862fcdeb807b>\u001b[0m in \u001b[0;36mmain\u001b[1;34m()\u001b[0m\n\u001b[0;32m     28\u001b[0m         [0,0,2,3,0,1,0,0,0]]\n\u001b[0;32m     29\u001b[0m     '''\n\u001b[1;32m---> 30\u001b[1;33m     \u001b[0marray2\u001b[0m\u001b[1;33m=\u001b[0m\u001b[0mpredictsudoku\u001b[0m\u001b[1;33m(\u001b[0m\u001b[0mar\u001b[0m\u001b[1;33m)\u001b[0m\u001b[1;33m\u001b[0m\u001b[1;33m\u001b[0m\u001b[0m\n\u001b[0m\u001b[0;32m     31\u001b[0m     \u001b[0marray\u001b[0m\u001b[1;33m=\u001b[0m\u001b[0mnp\u001b[0m\u001b[1;33m.\u001b[0m\u001b[0marray\u001b[0m\u001b[1;33m(\u001b[0m\u001b[0marray2\u001b[0m\u001b[1;33m)\u001b[0m\u001b[1;33m\u001b[0m\u001b[1;33m\u001b[0m\u001b[0m\n\u001b[0;32m     32\u001b[0m     \u001b[0marray\u001b[0m\u001b[1;33m=\u001b[0m\u001b[0marray\u001b[0m\u001b[1;33m.\u001b[0m\u001b[0mastype\u001b[0m\u001b[1;33m(\u001b[0m\u001b[0mint\u001b[0m\u001b[1;33m)\u001b[0m\u001b[1;33m\u001b[0m\u001b[1;33m\u001b[0m\u001b[0m\n",
      "\u001b[1;32m<ipython-input-27-a9fe76263691>\u001b[0m in \u001b[0;36mpredictsudoku\u001b[1;34m(arrn)\u001b[0m\n\u001b[0;32m    290\u001b[0m \u001b[1;33m\u001b[0m\u001b[0m\n\u001b[0;32m    291\u001b[0m \u001b[1;32mdef\u001b[0m \u001b[0mpredictsudoku\u001b[0m\u001b[1;33m(\u001b[0m\u001b[0marrn\u001b[0m\u001b[1;33m)\u001b[0m\u001b[1;33m:\u001b[0m\u001b[1;33m\u001b[0m\u001b[1;33m\u001b[0m\u001b[0m\n\u001b[1;32m--> 292\u001b[1;33m     \u001b[0marr_trim\u001b[0m\u001b[1;33m=\u001b[0m\u001b[0mimages\u001b[0m\u001b[1;33m(\u001b[0m\u001b[0marrn\u001b[0m\u001b[1;33m)\u001b[0m\u001b[1;33m\u001b[0m\u001b[1;33m\u001b[0m\u001b[0m\n\u001b[0m\u001b[0;32m    293\u001b[0m     \u001b[0mary\u001b[0m\u001b[1;33m=\u001b[0m\u001b[0mnp\u001b[0m\u001b[1;33m.\u001b[0m\u001b[0mzeros\u001b[0m\u001b[1;33m(\u001b[0m\u001b[1;33m(\u001b[0m\u001b[1;36m9\u001b[0m\u001b[1;33m,\u001b[0m\u001b[1;36m9\u001b[0m\u001b[1;33m)\u001b[0m\u001b[1;33m)\u001b[0m\u001b[1;33m\u001b[0m\u001b[1;33m\u001b[0m\u001b[0m\n\u001b[0;32m    294\u001b[0m     \u001b[1;32mfor\u001b[0m \u001b[0mi\u001b[0m \u001b[1;32min\u001b[0m \u001b[0mrange\u001b[0m\u001b[1;33m(\u001b[0m\u001b[1;36m0\u001b[0m\u001b[1;33m,\u001b[0m\u001b[1;36m81\u001b[0m\u001b[1;33m)\u001b[0m\u001b[1;33m:\u001b[0m\u001b[1;33m\u001b[0m\u001b[1;33m\u001b[0m\u001b[0m\n",
      "\u001b[1;32m<ipython-input-27-a9fe76263691>\u001b[0m in \u001b[0;36mimages\u001b[1;34m(arrr)\u001b[0m\n\u001b[0;32m    274\u001b[0m         \u001b[0mimg\u001b[0m\u001b[1;33m=\u001b[0m\u001b[0mremnoise\u001b[0m\u001b[1;33m(\u001b[0m\u001b[0mimg\u001b[0m\u001b[1;33m,\u001b[0m\u001b[1;36m20\u001b[0m\u001b[1;33m)\u001b[0m\u001b[1;33m\u001b[0m\u001b[1;33m\u001b[0m\u001b[0m\n\u001b[0;32m    275\u001b[0m         \u001b[0mimg\u001b[0m\u001b[1;33m=\u001b[0m\u001b[0mcv2\u001b[0m\u001b[1;33m.\u001b[0m\u001b[0mbitwise_not\u001b[0m\u001b[1;33m(\u001b[0m\u001b[0mimg\u001b[0m\u001b[1;33m)\u001b[0m\u001b[1;33m\u001b[0m\u001b[1;33m\u001b[0m\u001b[0m\n\u001b[1;32m--> 276\u001b[1;33m         \u001b[0mimg\u001b[0m\u001b[1;33m=\u001b[0m\u001b[0mtrimimg1\u001b[0m\u001b[1;33m(\u001b[0m\u001b[0mimg\u001b[0m\u001b[1;33m)\u001b[0m\u001b[1;33m\u001b[0m\u001b[1;33m\u001b[0m\u001b[0m\n\u001b[0m\u001b[0;32m    277\u001b[0m         \u001b[0mimg\u001b[0m\u001b[1;33m=\u001b[0m\u001b[0msetimg\u001b[0m\u001b[1;33m(\u001b[0m\u001b[0mimg\u001b[0m\u001b[1;33m)\u001b[0m\u001b[1;33m\u001b[0m\u001b[1;33m\u001b[0m\u001b[0m\n\u001b[0;32m    278\u001b[0m         \u001b[1;31m#print(i)\u001b[0m\u001b[1;33m\u001b[0m\u001b[1;33m\u001b[0m\u001b[1;33m\u001b[0m\u001b[0m\n",
      "\u001b[1;32m<ipython-input-27-a9fe76263691>\u001b[0m in \u001b[0;36mtrimimg1\u001b[1;34m(img)\u001b[0m\n\u001b[0;32m    260\u001b[0m     \u001b[1;31m#img=imgg[top:bottom,left:right]\u001b[0m\u001b[1;33m\u001b[0m\u001b[1;33m\u001b[0m\u001b[1;33m\u001b[0m\u001b[0m\n\u001b[0;32m    261\u001b[0m \u001b[1;33m\u001b[0m\u001b[0m\n\u001b[1;32m--> 262\u001b[1;33m     \u001b[0mimg\u001b[0m\u001b[1;33m=\u001b[0m\u001b[0msetimg\u001b[0m\u001b[1;33m(\u001b[0m\u001b[0mimg\u001b[0m\u001b[1;33m)\u001b[0m\u001b[1;33m\u001b[0m\u001b[1;33m\u001b[0m\u001b[0m\n\u001b[0m\u001b[0;32m    263\u001b[0m     \u001b[0mimg\u001b[0m\u001b[1;33m=\u001b[0m\u001b[0mcv2\u001b[0m\u001b[1;33m.\u001b[0m\u001b[0mbitwise_not\u001b[0m\u001b[1;33m(\u001b[0m\u001b[0mimg\u001b[0m\u001b[1;33m)\u001b[0m\u001b[1;33m\u001b[0m\u001b[1;33m\u001b[0m\u001b[0m\n\u001b[0;32m    264\u001b[0m     \u001b[0mimg\u001b[0m\u001b[1;33m=\u001b[0m\u001b[0mremnoise\u001b[0m\u001b[1;33m(\u001b[0m\u001b[0mimg\u001b[0m\u001b[1;33m,\u001b[0m\u001b[1;36m30\u001b[0m\u001b[1;33m)\u001b[0m\u001b[1;33m\u001b[0m\u001b[1;33m\u001b[0m\u001b[0m\n",
      "\u001b[1;32m<ipython-input-19-a94d322780ae>\u001b[0m in \u001b[0;36msetimg\u001b[1;34m(img)\u001b[0m\n\u001b[0;32m      8\u001b[0m     \u001b[0my\u001b[0m\u001b[1;33m,\u001b[0m\u001b[0mx\u001b[0m\u001b[1;33m=\u001b[0m\u001b[0mimg\u001b[0m\u001b[1;33m.\u001b[0m\u001b[0mshape\u001b[0m\u001b[1;33m\u001b[0m\u001b[1;33m\u001b[0m\u001b[0m\n\u001b[0;32m      9\u001b[0m     \u001b[1;32mif\u001b[0m \u001b[0mx\u001b[0m\u001b[1;33m==\u001b[0m\u001b[1;36m0\u001b[0m \u001b[1;32mor\u001b[0m \u001b[0my\u001b[0m\u001b[1;33m==\u001b[0m\u001b[1;36m0\u001b[0m\u001b[1;33m:\u001b[0m\u001b[1;33m\u001b[0m\u001b[1;33m\u001b[0m\u001b[0m\n\u001b[1;32m---> 10\u001b[1;33m         \u001b[1;32mraise\u001b[0m \u001b[0mException\u001b[0m\u001b[1;33m(\u001b[0m\u001b[1;34m\"Image Dimension = 0\"\u001b[0m\u001b[1;33m)\u001b[0m\u001b[1;33m\u001b[0m\u001b[1;33m\u001b[0m\u001b[0m\n\u001b[0m\u001b[0;32m     11\u001b[0m         \u001b[1;31m#print(\"Image dimension == 0\")\u001b[0m\u001b[1;33m\u001b[0m\u001b[1;33m\u001b[0m\u001b[1;33m\u001b[0m\u001b[0m\n\u001b[0;32m     12\u001b[0m         \u001b[1;31m#return\u001b[0m\u001b[1;33m\u001b[0m\u001b[1;33m\u001b[0m\u001b[1;33m\u001b[0m\u001b[0m\n",
      "\u001b[1;31mException\u001b[0m: Image Dimension = 0"
     ]
    }
   ],
   "source": [
    "main()"
   ]
  },
  {
   "cell_type": "code",
   "execution_count": 39,
   "metadata": {},
   "outputs": [],
   "source": [
    "hello=np.array([[.5,55435.34,3464.56],\n",
    "      [.5,55435.34,3464.56]])"
   ]
  },
  {
   "cell_type": "code",
   "execution_count": 40,
   "metadata": {},
   "outputs": [
    {
     "name": "stdout",
     "output_type": "stream",
     "text": [
      "[[5.000000e-01 5.543534e+04 3.464560e+03]\n",
      " [5.000000e-01 5.543534e+04 3.464560e+03]]\n"
     ]
    },
    {
     "data": {
      "text/plain": [
       "array([[    0, 55435,  3464],\n",
       "       [    0, 55435,  3464]])"
      ]
     },
     "execution_count": 40,
     "metadata": {},
     "output_type": "execute_result"
    }
   ],
   "source": [
    "print(hello)\n",
    "hello.astype(int)"
   ]
  },
  {
   "cell_type": "code",
   "execution_count": null,
   "metadata": {},
   "outputs": [],
   "source": [
    "#cam=cv2.VideoCapture(0)\n",
    "#ret_val,img=cam.read()\n",
    "#del(cam)\n",
    "'''\n",
    "import pytesseract as pt\n",
    "pt.pytesseract.tesseract_cmd = r'C:\\Program Files\\Tesseract-OCR\\tesseract.exe'\n",
    "\n",
    "stri=pt.image_to_string(thrs,config=(\"-c tessedit\"\n",
    "                  \"_char_whitelist=123456789\"\n",
    "                  \" --psm 10\"\n",
    "                  \" -l osd\"\n",
    "                  \" \"))\n",
    "'''"
   ]
  }
 ],
 "metadata": {
  "kernelspec": {
   "display_name": "Python 3",
   "language": "python",
   "name": "python3"
  },
  "language_info": {
   "codemirror_mode": {
    "name": "ipython",
    "version": 3
   },
   "file_extension": ".py",
   "mimetype": "text/x-python",
   "name": "python",
   "nbconvert_exporter": "python",
   "pygments_lexer": "ipython3",
   "version": "3.8.3"
  }
 },
 "nbformat": 4,
 "nbformat_minor": 4
}
